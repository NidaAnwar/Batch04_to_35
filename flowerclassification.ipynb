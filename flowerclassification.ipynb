{
  "nbformat": 4,
  "nbformat_minor": 0,
  "metadata": {
    "colab": {
      "name": "flowerclassification.ipynb",
      "provenance": [],
      "collapsed_sections": []
    },
    "kernelspec": {
      "name": "python3",
      "display_name": "Python 3"
    },
    "language_info": {
      "name": "python"
    },
    "accelerator": "TPU"
  },
  "cells": [
    {
      "cell_type": "code",
      "metadata": {
        "id": "MHeMvFpkR-Oe"
      },
      "source": [
        "import numpy as np\n",
        "import pandas as pd\n",
        "import tensorflow as tf\n",
        "from tensorflow.keras import models\n",
        "from tensorflow.keras import layers\n",
        "from sklearn.model_selection import train_test_split\n",
        "from tensorflow.keras.preprocessing.image import ImageDataGenerator"
      ],
      "execution_count": 1,
      "outputs": []
    },
    {
      "cell_type": "code",
      "metadata": {
        "id": "EM6M45LxTBmC"
      },
      "source": [
        "train_data_gen = ImageDataGenerator(rescale=1.0/255,validation_split=0.2)"
      ],
      "execution_count": 2,
      "outputs": []
    },
    {
      "cell_type": "code",
      "metadata": {
        "id": "DZi1s_6WY_Eu",
        "colab": {
          "base_uri": "https://localhost:8080/"
        },
        "outputId": "4398a53e-3f40-4544-e723-a4431f917164"
      },
      "source": [
        "training_Data = train_data_gen.flow_from_directory(\n",
        "    \"/content/drive/MyDrive/archiveofflower/flowers/flowers\",\n",
        "    target_size=(180,180), \n",
        "    batch_size=20,\n",
        "    shuffle=False,\n",
        "     subset=\"training\",\n",
        "    class_mode='categorical'\n",
        ")\n",
        "validation_Data = train_data_gen.flow_from_directory(\n",
        "    \"/content/drive/MyDrive/archiveofflower/flowers/flowers\",\n",
        "    target_size=(180,180),\n",
        "    batch_size=20,\n",
        "    shuffle=False,\n",
        "    class_mode='categorical',\n",
        "     subset='validation'\n",
        ")\n",
        "\n"
      ],
      "execution_count": 3,
      "outputs": [
        {
          "output_type": "stream",
          "text": [
            "Found 3462 images belonging to 5 classes.\n",
            "Found 861 images belonging to 5 classes.\n"
          ],
          "name": "stdout"
        }
      ]
    },
    {
      "cell_type": "code",
      "metadata": {
        "colab": {
          "base_uri": "https://localhost:8080/"
        },
        "id": "CWKC5kKGUbob",
        "outputId": "2390bf17-c9c2-4112-8f5b-e17407731269"
      },
      "source": [
        "training_Data.class_indices"
      ],
      "execution_count": null,
      "outputs": [
        {
          "output_type": "execute_result",
          "data": {
            "text/plain": [
              "{'daisy': 0, 'dandelion': 1, 'rose': 2, 'sunflower': 3, 'tulip': 4}"
            ]
          },
          "metadata": {
            "tags": []
          },
          "execution_count": 6
        }
      ]
    },
    {
      "cell_type": "code",
      "metadata": {
        "id": "o8zYpM4SWWeJ"
      },
      "source": [
        "import numpy as np\n",
        "import os\n",
        "import PIL\n",
        "import PIL.Image\n",
        "import tensorflow as tf\n",
        "import tensorflow_datasets as tfds"
      ],
      "execution_count": 4,
      "outputs": []
    },
    {
      "cell_type": "code",
      "metadata": {
        "id": "tkjYp-JpKQXn"
      },
      "source": [
        ""
      ],
      "execution_count": 4,
      "outputs": []
    },
    {
      "cell_type": "code",
      "metadata": {
        "id": "BmlclE0NaNcW"
      },
      "source": [
        "from tensorflow.keras.models import Sequential\n",
        "from tensorflow.keras.layers import Dense, Flatten\n",
        "from tensorflow.keras.optimizers import RMSprop"
      ],
      "execution_count": 5,
      "outputs": []
    },
    {
      "cell_type": "code",
      "metadata": {
        "id": "n0kNKV8DatIC"
      },
      "source": [
        "\n",
        "model = models.Sequential()\n",
        "\n",
        "model.add(Flatten())\n",
        "model.add(layers.Dense(64, activation='relu'))\n",
        "model.add(layers.Dense(46, activation='relu'))\n",
        "model.add(Dense(5, activation='softmax'))"
      ],
      "execution_count": 11,
      "outputs": []
    },
    {
      "cell_type": "code",
      "metadata": {
        "id": "2QFL7tA4D0Sa"
      },
      "source": [
        "model.compile(optimizer='rmsprop',\n",
        "loss='categorical_crossentropy',\n",
        "metrics=['accuracy'])"
      ],
      "execution_count": 13,
      "outputs": []
    },
    {
      "cell_type": "code",
      "metadata": {
        "id": "LTI2lXgLDq_0",
        "colab": {
          "base_uri": "https://localhost:8080/"
        },
        "outputId": "e73139fd-572b-43d3-bb5e-49388054206f"
      },
      "source": [
        "# model.fit(\n",
        "#     training_Data,\n",
        "#     batch_size=10,\n",
        "#     epochs = 20)\n",
        "\n",
        "model.fit(\n",
        "    training_Data,\n",
        "    steps_per_epoch = 20,\n",
        "    validation_data = validation_Data, \n",
        "    validation_steps = 20,\n",
        "    epochs = 200)\n",
        "\n",
        "#model.fit(training_Data,batch_size=100,epochs=70)"
      ],
      "execution_count": 15,
      "outputs": [
        {
          "output_type": "stream",
          "text": [
            "Epoch 1/200\n",
            "20/20 [==============================] - 190s 10s/step - loss: 38.2129 - accuracy: 0.2475 - val_loss: 13.6920 - val_accuracy: 0.0125\n",
            "Epoch 2/200\n",
            "20/20 [==============================] - 75s 4s/step - loss: 17.5129 - accuracy: 0.2750 - val_loss: 6.5874 - val_accuracy: 0.5250\n",
            "Epoch 3/200\n",
            "20/20 [==============================] - 61s 3s/step - loss: 17.4249 - accuracy: 0.0675 - val_loss: 15.8036 - val_accuracy: 0.1100\n",
            "Epoch 4/200\n",
            "20/20 [==============================] - 55s 3s/step - loss: 13.2658 - accuracy: 0.1990 - val_loss: 25.1825 - val_accuracy: 0.0950\n",
            "Epoch 5/200\n",
            "20/20 [==============================] - 53s 2s/step - loss: 13.7701 - accuracy: 0.1975 - val_loss: 11.4830 - val_accuracy: 0.5250\n",
            "Epoch 6/200\n",
            "20/20 [==============================] - 58s 3s/step - loss: 13.3156 - accuracy: 0.2125 - val_loss: 3.0005 - val_accuracy: 0.5300\n",
            "Epoch 7/200\n",
            "20/20 [==============================] - 38s 2s/step - loss: 9.9773 - accuracy: 0.3325 - val_loss: 23.1576 - val_accuracy: 0.0425\n",
            "Epoch 8/200\n",
            "20/20 [==============================] - 29s 2s/step - loss: 9.4654 - accuracy: 0.2575 - val_loss: 3.6153 - val_accuracy: 0.4475\n",
            "Epoch 9/200\n",
            "20/20 [==============================] - 14s 719ms/step - loss: 9.4484 - accuracy: 0.1780 - val_loss: 5.2259 - val_accuracy: 0.3325\n",
            "Epoch 10/200\n",
            "20/20 [==============================] - 29s 1s/step - loss: 6.3267 - accuracy: 0.2575 - val_loss: 10.5198 - val_accuracy: 0.2225\n",
            "Epoch 11/200\n",
            "20/20 [==============================] - 18s 956ms/step - loss: 8.6817 - accuracy: 0.2125 - val_loss: 11.2485 - val_accuracy: 0.1425\n",
            "Epoch 12/200\n",
            "20/20 [==============================] - 23s 1s/step - loss: 7.9521 - accuracy: 0.3000 - val_loss: 7.0735 - val_accuracy: 0.3575\n",
            "Epoch 13/200\n",
            "20/20 [==============================] - 23s 1s/step - loss: 6.4919 - accuracy: 0.2775 - val_loss: 3.8041 - val_accuracy: 0.3625\n",
            "Epoch 14/200\n",
            "20/20 [==============================] - 15s 761ms/step - loss: 6.1032 - accuracy: 0.3475 - val_loss: 6.5908 - val_accuracy: 0.2675\n",
            "Epoch 15/200\n",
            "20/20 [==============================] - 28s 1s/step - loss: 7.7044 - accuracy: 0.2075 - val_loss: 5.5070 - val_accuracy: 0.5275\n",
            "Epoch 16/200\n",
            "20/20 [==============================] - 5s 242ms/step - loss: 7.7438 - accuracy: 0.1975 - val_loss: 4.5980 - val_accuracy: 0.5400\n",
            "Epoch 17/200\n",
            "20/20 [==============================] - 27s 1s/step - loss: 4.7366 - accuracy: 0.4050 - val_loss: 5.8527 - val_accuracy: 0.5175\n",
            "Epoch 18/200\n",
            "20/20 [==============================] - 9s 474ms/step - loss: 6.9700 - accuracy: 0.2600 - val_loss: 13.5616 - val_accuracy: 0.2000\n",
            "Epoch 19/200\n",
            "20/20 [==============================] - 5s 242ms/step - loss: 6.8943 - accuracy: 0.1725 - val_loss: 5.1840 - val_accuracy: 0.2225\n",
            "Epoch 20/200\n",
            "20/20 [==============================] - 9s 458ms/step - loss: 6.0479 - accuracy: 0.3141 - val_loss: 11.7245 - val_accuracy: 0.0225\n",
            "Epoch 21/200\n",
            "20/20 [==============================] - 15s 756ms/step - loss: 5.2998 - accuracy: 0.2250 - val_loss: 2.7547 - val_accuracy: 0.4550\n",
            "Epoch 22/200\n",
            "20/20 [==============================] - 5s 240ms/step - loss: 3.7826 - accuracy: 0.3560 - val_loss: 2.0378 - val_accuracy: 0.5325\n",
            "Epoch 23/200\n",
            "20/20 [==============================] - 5s 243ms/step - loss: 3.6326 - accuracy: 0.3600 - val_loss: 3.1017 - val_accuracy: 0.5275\n",
            "Epoch 24/200\n",
            "20/20 [==============================] - 5s 247ms/step - loss: 4.0990 - accuracy: 0.2375 - val_loss: 1.6709 - val_accuracy: 0.5250\n",
            "Epoch 25/200\n",
            "20/20 [==============================] - 9s 485ms/step - loss: 3.2759 - accuracy: 0.1900 - val_loss: 1.6152 - val_accuracy: 0.5175\n",
            "Epoch 26/200\n",
            "20/20 [==============================] - 9s 483ms/step - loss: 3.8093 - accuracy: 0.2025 - val_loss: 1.7452 - val_accuracy: 0.5225\n",
            "Epoch 27/200\n",
            "20/20 [==============================] - 5s 249ms/step - loss: 3.9270 - accuracy: 0.2900 - val_loss: 1.2867 - val_accuracy: 0.4200\n",
            "Epoch 28/200\n",
            "20/20 [==============================] - 5s 249ms/step - loss: 2.5587 - accuracy: 0.3300 - val_loss: 2.4550 - val_accuracy: 0.3300\n",
            "Epoch 29/200\n",
            "20/20 [==============================] - 5s 241ms/step - loss: 4.9658 - accuracy: 0.2525 - val_loss: 1.3370 - val_accuracy: 0.4500\n",
            "Epoch 30/200\n",
            "20/20 [==============================] - 5s 244ms/step - loss: 2.4304 - accuracy: 0.2825 - val_loss: 3.9770 - val_accuracy: 0.1125\n",
            "Epoch 31/200\n",
            "20/20 [==============================] - 5s 245ms/step - loss: 2.9657 - accuracy: 0.3275 - val_loss: 3.2686 - val_accuracy: 0.5025\n",
            "Epoch 32/200\n",
            "20/20 [==============================] - 9s 477ms/step - loss: 2.9330 - accuracy: 0.2375 - val_loss: 3.6512 - val_accuracy: 0.1300\n",
            "Epoch 33/200\n",
            "20/20 [==============================] - 5s 247ms/step - loss: 3.2881 - accuracy: 0.2025 - val_loss: 1.8687 - val_accuracy: 0.3925\n",
            "Epoch 34/200\n",
            "20/20 [==============================] - 5s 238ms/step - loss: 2.5667 - accuracy: 0.2675 - val_loss: 1.5895 - val_accuracy: 0.4650\n",
            "Epoch 35/200\n",
            "20/20 [==============================] - 5s 245ms/step - loss: 3.7179 - accuracy: 0.2750 - val_loss: 1.9400 - val_accuracy: 0.5225\n",
            "Epoch 36/200\n",
            "20/20 [==============================] - 9s 491ms/step - loss: 3.5340 - accuracy: 0.1925 - val_loss: 2.5360 - val_accuracy: 0.1800\n",
            "Epoch 37/200\n",
            "20/20 [==============================] - 5s 245ms/step - loss: 2.5059 - accuracy: 0.3717 - val_loss: 2.4707 - val_accuracy: 0.4100\n",
            "Epoch 38/200\n",
            "20/20 [==============================] - 5s 249ms/step - loss: 2.8516 - accuracy: 0.2150 - val_loss: 1.8311 - val_accuracy: 0.4500\n",
            "Epoch 39/200\n",
            "20/20 [==============================] - 5s 242ms/step - loss: 2.4412 - accuracy: 0.2475 - val_loss: 4.9249 - val_accuracy: 0.2625\n",
            "Epoch 40/200\n",
            "20/20 [==============================] - 5s 255ms/step - loss: 3.0057 - accuracy: 0.1325 - val_loss: 1.5719 - val_accuracy: 0.3850\n",
            "Epoch 41/200\n",
            "20/20 [==============================] - 5s 245ms/step - loss: 1.8446 - accuracy: 0.1025 - val_loss: 1.6227 - val_accuracy: 0.0875\n",
            "Epoch 42/200\n",
            "20/20 [==============================] - 5s 240ms/step - loss: 1.6246 - accuracy: 0.0654 - val_loss: 1.6152 - val_accuracy: 0.1975\n",
            "Epoch 43/200\n",
            "20/20 [==============================] - 5s 246ms/step - loss: 2.1882 - accuracy: 0.3225 - val_loss: 1.5715 - val_accuracy: 0.2500\n",
            "Epoch 44/200\n",
            "20/20 [==============================] - 5s 239ms/step - loss: 1.5723 - accuracy: 0.3691 - val_loss: 1.6895 - val_accuracy: 0.1100\n",
            "Epoch 45/200\n",
            "20/20 [==============================] - 5s 248ms/step - loss: 1.6562 - accuracy: 0.0725 - val_loss: 1.5950 - val_accuracy: 0.2000\n",
            "Epoch 46/200\n",
            "20/20 [==============================] - 5s 244ms/step - loss: 1.6114 - accuracy: 0.2475 - val_loss: 1.6141 - val_accuracy: 0.1050\n",
            "Epoch 47/200\n",
            "20/20 [==============================] - 5s 244ms/step - loss: 1.6338 - accuracy: 0.1975 - val_loss: 1.5592 - val_accuracy: 0.2500\n",
            "Epoch 48/200\n",
            "20/20 [==============================] - 5s 250ms/step - loss: 1.6846 - accuracy: 0.0725 - val_loss: 1.6128 - val_accuracy: 0.1400\n",
            "Epoch 49/200\n",
            "20/20 [==============================] - 5s 242ms/step - loss: 1.7064 - accuracy: 0.2350 - val_loss: 1.3855 - val_accuracy: 0.2875\n",
            "Epoch 50/200\n",
            "20/20 [==============================] - 5s 243ms/step - loss: 1.5714 - accuracy: 0.1425 - val_loss: 1.5699 - val_accuracy: 0.1275\n",
            "Epoch 51/200\n",
            "20/20 [==============================] - 5s 251ms/step - loss: 1.6350 - accuracy: 0.2700 - val_loss: 1.5157 - val_accuracy: 0.1800\n",
            "Epoch 52/200\n",
            "20/20 [==============================] - 5s 239ms/step - loss: 1.6054 - accuracy: 0.2050 - val_loss: 1.4327 - val_accuracy: 0.1925\n",
            "Epoch 53/200\n",
            "20/20 [==============================] - 5s 235ms/step - loss: 1.5653 - accuracy: 0.1911 - val_loss: 1.5036 - val_accuracy: 0.1525\n",
            "Epoch 54/200\n",
            "20/20 [==============================] - 5s 242ms/step - loss: 1.5959 - accuracy: 0.1100 - val_loss: 1.5755 - val_accuracy: 0.5250\n",
            "Epoch 55/200\n",
            "20/20 [==============================] - 5s 247ms/step - loss: 2.0001 - accuracy: 0.4200 - val_loss: 1.4439 - val_accuracy: 0.3325\n",
            "Epoch 56/200\n",
            "20/20 [==============================] - 9s 485ms/step - loss: 1.5726 - accuracy: 0.3700 - val_loss: 1.5014 - val_accuracy: 0.2150\n",
            "Epoch 57/200\n",
            "20/20 [==============================] - 5s 243ms/step - loss: 1.6314 - accuracy: 0.2275 - val_loss: 1.3758 - val_accuracy: 0.3050\n",
            "Epoch 58/200\n",
            "20/20 [==============================] - 5s 235ms/step - loss: 1.7732 - accuracy: 0.2725 - val_loss: 1.5837 - val_accuracy: 0.1925\n",
            "Epoch 59/200\n",
            "20/20 [==============================] - 5s 242ms/step - loss: 1.5504 - accuracy: 0.2800 - val_loss: 1.7186 - val_accuracy: 0.0825\n",
            "Epoch 60/200\n",
            "20/20 [==============================] - 5s 251ms/step - loss: 1.5203 - accuracy: 0.2550 - val_loss: 1.6698 - val_accuracy: 0.0675\n",
            "Epoch 61/200\n",
            "20/20 [==============================] - 5s 250ms/step - loss: 1.5558 - accuracy: 0.2375 - val_loss: 1.9321 - val_accuracy: 0.0725\n",
            "Epoch 62/200\n",
            "20/20 [==============================] - 5s 252ms/step - loss: 1.6705 - accuracy: 0.0950 - val_loss: 1.6064 - val_accuracy: 0.1300\n",
            "Epoch 63/200\n",
            "20/20 [==============================] - 5s 252ms/step - loss: 2.6832 - accuracy: 0.3675 - val_loss: 1.4984 - val_accuracy: 0.2325\n",
            "Epoch 64/200\n",
            "20/20 [==============================] - 5s 253ms/step - loss: 1.7237 - accuracy: 0.3000 - val_loss: 1.4506 - val_accuracy: 0.2175\n",
            "Epoch 65/200\n",
            "20/20 [==============================] - 5s 251ms/step - loss: 1.7480 - accuracy: 0.4800 - val_loss: 1.3832 - val_accuracy: 0.2950\n",
            "Epoch 66/200\n",
            "20/20 [==============================] - 5s 250ms/step - loss: 1.4774 - accuracy: 0.3450 - val_loss: 1.4758 - val_accuracy: 0.2500\n",
            "Epoch 67/200\n",
            "20/20 [==============================] - 5s 248ms/step - loss: 1.6575 - accuracy: 0.2825 - val_loss: 1.5248 - val_accuracy: 0.2400\n",
            "Epoch 68/200\n",
            "20/20 [==============================] - 5s 244ms/step - loss: 1.5589 - accuracy: 0.2975 - val_loss: 3.5037 - val_accuracy: 0.1425\n",
            "Epoch 69/200\n",
            "20/20 [==============================] - 5s 240ms/step - loss: 1.6432 - accuracy: 0.2749 - val_loss: 1.5744 - val_accuracy: 0.2075\n",
            "Epoch 70/200\n",
            "20/20 [==============================] - 5s 249ms/step - loss: 1.9228 - accuracy: 0.2950 - val_loss: 1.3687 - val_accuracy: 0.2775\n",
            "Epoch 71/200\n",
            "20/20 [==============================] - 5s 246ms/step - loss: 1.6507 - accuracy: 0.2250 - val_loss: 1.5263 - val_accuracy: 0.1725\n",
            "Epoch 72/200\n",
            "20/20 [==============================] - 5s 250ms/step - loss: 1.4805 - accuracy: 0.3350 - val_loss: 1.6985 - val_accuracy: 0.3100\n",
            "Epoch 73/200\n",
            "20/20 [==============================] - 5s 255ms/step - loss: 1.5924 - accuracy: 0.4275 - val_loss: 1.4633 - val_accuracy: 0.2100\n",
            "Epoch 74/200\n",
            "20/20 [==============================] - 5s 258ms/step - loss: 1.5277 - accuracy: 0.3300 - val_loss: 1.4068 - val_accuracy: 0.3275\n",
            "Epoch 75/200\n",
            "20/20 [==============================] - 5s 243ms/step - loss: 1.5758 - accuracy: 0.3425 - val_loss: 1.5560 - val_accuracy: 0.1225\n",
            "Epoch 76/200\n",
            "20/20 [==============================] - 5s 247ms/step - loss: 1.6998 - accuracy: 0.4200 - val_loss: 1.4778 - val_accuracy: 0.1925\n",
            "Epoch 77/200\n",
            "20/20 [==============================] - 5s 237ms/step - loss: 1.5067 - accuracy: 0.2175 - val_loss: 1.6211 - val_accuracy: 0.2325\n",
            "Epoch 78/200\n",
            "20/20 [==============================] - 5s 246ms/step - loss: 1.7103 - accuracy: 0.2125 - val_loss: 1.6315 - val_accuracy: 0.0825\n",
            "Epoch 79/200\n",
            "20/20 [==============================] - 5s 251ms/step - loss: 1.5070 - accuracy: 0.3100 - val_loss: 1.2023 - val_accuracy: 0.5250\n",
            "Epoch 80/200\n",
            "20/20 [==============================] - 5s 245ms/step - loss: 1.6474 - accuracy: 0.2975 - val_loss: 1.4553 - val_accuracy: 0.2350\n",
            "Epoch 81/200\n",
            "20/20 [==============================] - 5s 246ms/step - loss: 1.6346 - accuracy: 0.3675 - val_loss: 1.6113 - val_accuracy: 0.1250\n",
            "Epoch 82/200\n",
            "20/20 [==============================] - 5s 248ms/step - loss: 1.9623 - accuracy: 0.3325 - val_loss: 1.5602 - val_accuracy: 0.1500\n",
            "Epoch 83/200\n",
            "20/20 [==============================] - 5s 245ms/step - loss: 1.5398 - accuracy: 0.3650 - val_loss: 1.3692 - val_accuracy: 0.2800\n",
            "Epoch 84/200\n",
            "20/20 [==============================] - 5s 242ms/step - loss: 1.9707 - accuracy: 0.2125 - val_loss: 1.5846 - val_accuracy: 0.1800\n",
            "Epoch 85/200\n",
            "20/20 [==============================] - 5s 241ms/step - loss: 1.4557 - accuracy: 0.2925 - val_loss: 1.7669 - val_accuracy: 0.2925\n",
            "Epoch 86/200\n",
            "20/20 [==============================] - 5s 250ms/step - loss: 1.6513 - accuracy: 0.5000 - val_loss: 1.3999 - val_accuracy: 0.2650\n",
            "Epoch 87/200\n",
            "20/20 [==============================] - 5s 240ms/step - loss: 1.5714 - accuracy: 0.3550 - val_loss: 1.4696 - val_accuracy: 0.1500\n",
            "Epoch 88/200\n",
            "20/20 [==============================] - 5s 240ms/step - loss: 1.5420 - accuracy: 0.2725 - val_loss: 1.3724 - val_accuracy: 0.3675\n",
            "Epoch 89/200\n",
            "20/20 [==============================] - 5s 241ms/step - loss: 1.5209 - accuracy: 0.3375 - val_loss: 1.3124 - val_accuracy: 0.3650\n",
            "Epoch 90/200\n",
            "20/20 [==============================] - 5s 241ms/step - loss: 1.6036 - accuracy: 0.2875 - val_loss: 1.5627 - val_accuracy: 0.1050\n",
            "Epoch 91/200\n",
            "20/20 [==============================] - 5s 236ms/step - loss: 1.5563 - accuracy: 0.2575 - val_loss: 1.5121 - val_accuracy: 0.2175\n",
            "Epoch 92/200\n",
            "20/20 [==============================] - 5s 237ms/step - loss: 1.7754 - accuracy: 0.2625 - val_loss: 1.4703 - val_accuracy: 0.2125\n",
            "Epoch 93/200\n",
            "20/20 [==============================] - 5s 239ms/step - loss: 1.4517 - accuracy: 0.3691 - val_loss: 2.4787 - val_accuracy: 0.2775\n",
            "Epoch 94/200\n",
            "20/20 [==============================] - 5s 239ms/step - loss: 1.4759 - accuracy: 0.2725 - val_loss: 1.3623 - val_accuracy: 0.3375\n",
            "Epoch 95/200\n",
            "20/20 [==============================] - 5s 244ms/step - loss: 1.6017 - accuracy: 0.4450 - val_loss: 1.5641 - val_accuracy: 0.1650\n",
            "Epoch 96/200\n",
            "20/20 [==============================] - 5s 242ms/step - loss: 1.5437 - accuracy: 0.2375 - val_loss: 1.4989 - val_accuracy: 0.1700\n",
            "Epoch 97/200\n",
            "20/20 [==============================] - 5s 241ms/step - loss: 1.7315 - accuracy: 0.2800 - val_loss: 1.5570 - val_accuracy: 0.1825\n",
            "Epoch 98/200\n",
            "20/20 [==============================] - 5s 250ms/step - loss: 1.5916 - accuracy: 0.3050 - val_loss: 1.2722 - val_accuracy: 0.3925\n",
            "Epoch 99/200\n",
            "20/20 [==============================] - 5s 242ms/step - loss: 1.6265 - accuracy: 0.3350 - val_loss: 1.4887 - val_accuracy: 0.1775\n",
            "Epoch 100/200\n",
            "20/20 [==============================] - 5s 250ms/step - loss: 1.4601 - accuracy: 0.3800 - val_loss: 1.4677 - val_accuracy: 0.2300\n",
            "Epoch 101/200\n",
            "20/20 [==============================] - 5s 237ms/step - loss: 1.5870 - accuracy: 0.1575 - val_loss: 1.1048 - val_accuracy: 0.3925\n",
            "Epoch 102/200\n",
            "20/20 [==============================] - 5s 239ms/step - loss: 1.5446 - accuracy: 0.2575 - val_loss: 2.1987 - val_accuracy: 0.1450\n",
            "Epoch 103/200\n",
            "20/20 [==============================] - 5s 251ms/step - loss: 1.5512 - accuracy: 0.1325 - val_loss: 1.4110 - val_accuracy: 0.2500\n",
            "Epoch 104/200\n",
            "20/20 [==============================] - 5s 244ms/step - loss: 1.5309 - accuracy: 0.3168 - val_loss: 1.4451 - val_accuracy: 0.2825\n",
            "Epoch 105/200\n",
            "20/20 [==============================] - 5s 246ms/step - loss: 1.5459 - accuracy: 0.2825 - val_loss: 1.6744 - val_accuracy: 0.1075\n",
            "Epoch 106/200\n",
            "20/20 [==============================] - 5s 245ms/step - loss: 1.4728 - accuracy: 0.4400 - val_loss: 1.7021 - val_accuracy: 0.1775\n",
            "Epoch 107/200\n",
            "20/20 [==============================] - 5s 240ms/step - loss: 1.3976 - accuracy: 0.4300 - val_loss: 1.5275 - val_accuracy: 0.2275\n",
            "Epoch 108/200\n",
            "20/20 [==============================] - 5s 239ms/step - loss: 1.6034 - accuracy: 0.3625 - val_loss: 2.1444 - val_accuracy: 0.1500\n",
            "Epoch 109/200\n",
            "20/20 [==============================] - 5s 252ms/step - loss: 1.4803 - accuracy: 0.3650 - val_loss: 1.6653 - val_accuracy: 0.1850\n",
            "Epoch 110/200\n",
            "20/20 [==============================] - 5s 240ms/step - loss: 1.7406 - accuracy: 0.3665 - val_loss: 1.3986 - val_accuracy: 0.3625\n",
            "Epoch 111/200\n",
            "20/20 [==============================] - 5s 248ms/step - loss: 1.4700 - accuracy: 0.3560 - val_loss: 1.5441 - val_accuracy: 0.1925\n",
            "Epoch 112/200\n",
            "20/20 [==============================] - 5s 238ms/step - loss: 1.5261 - accuracy: 0.3650 - val_loss: 1.3498 - val_accuracy: 0.3050\n",
            "Epoch 113/200\n",
            "20/20 [==============================] - 5s 244ms/step - loss: 1.5526 - accuracy: 0.2853 - val_loss: 1.4719 - val_accuracy: 0.2425\n",
            "Epoch 114/200\n",
            "20/20 [==============================] - 5s 253ms/step - loss: 1.4989 - accuracy: 0.3575 - val_loss: 1.7220 - val_accuracy: 0.3550\n",
            "Epoch 115/200\n",
            "20/20 [==============================] - 5s 245ms/step - loss: 1.6298 - accuracy: 0.2950 - val_loss: 1.5166 - val_accuracy: 0.2550\n",
            "Epoch 116/200\n",
            "20/20 [==============================] - 5s 242ms/step - loss: 1.5172 - accuracy: 0.2600 - val_loss: 1.6590 - val_accuracy: 0.1050\n",
            "Epoch 117/200\n",
            "20/20 [==============================] - 5s 252ms/step - loss: 1.5653 - accuracy: 0.2550 - val_loss: 1.3569 - val_accuracy: 0.3325\n",
            "Epoch 118/200\n",
            "20/20 [==============================] - 5s 237ms/step - loss: 1.8035 - accuracy: 0.3025 - val_loss: 1.4288 - val_accuracy: 0.3325\n",
            "Epoch 119/200\n",
            "20/20 [==============================] - 5s 239ms/step - loss: 1.4932 - accuracy: 0.3975 - val_loss: 1.4320 - val_accuracy: 0.2725\n",
            "Epoch 120/200\n",
            "20/20 [==============================] - 5s 242ms/step - loss: 1.4090 - accuracy: 0.3500 - val_loss: 1.5350 - val_accuracy: 0.1800\n",
            "Epoch 121/200\n",
            "20/20 [==============================] - 5s 243ms/step - loss: 1.6146 - accuracy: 0.2875 - val_loss: 1.3870 - val_accuracy: 0.3150\n",
            "Epoch 122/200\n",
            "20/20 [==============================] - 5s 245ms/step - loss: 1.5787 - accuracy: 0.3750 - val_loss: 2.7459 - val_accuracy: 0.3050\n",
            "Epoch 123/200\n",
            "20/20 [==============================] - 5s 245ms/step - loss: 1.7342 - accuracy: 0.2850 - val_loss: 1.4225 - val_accuracy: 0.2225\n",
            "Epoch 124/200\n",
            "20/20 [==============================] - 5s 250ms/step - loss: 1.5157 - accuracy: 0.4400 - val_loss: 1.6001 - val_accuracy: 0.2000\n",
            "Epoch 125/200\n",
            "20/20 [==============================] - 5s 240ms/step - loss: 1.3901 - accuracy: 0.4125 - val_loss: 1.6441 - val_accuracy: 0.2750\n",
            "Epoch 126/200\n",
            "20/20 [==============================] - 5s 244ms/step - loss: 1.3763 - accuracy: 0.4475 - val_loss: 1.4373 - val_accuracy: 0.4100\n",
            "Epoch 127/200\n",
            "20/20 [==============================] - 5s 241ms/step - loss: 1.5286 - accuracy: 0.4075 - val_loss: 1.3361 - val_accuracy: 0.3575\n",
            "Epoch 128/200\n",
            "20/20 [==============================] - 5s 241ms/step - loss: 1.4380 - accuracy: 0.2650 - val_loss: 1.6141 - val_accuracy: 0.1950\n",
            "Epoch 129/200\n",
            "20/20 [==============================] - 5s 241ms/step - loss: 1.2867 - accuracy: 0.4075 - val_loss: 1.9149 - val_accuracy: 0.5350\n",
            "Epoch 130/200\n",
            "20/20 [==============================] - 5s 242ms/step - loss: 1.2828 - accuracy: 0.4650 - val_loss: 1.1923 - val_accuracy: 0.3950\n",
            "Epoch 131/200\n",
            "20/20 [==============================] - 5s 239ms/step - loss: 1.3130 - accuracy: 0.4843 - val_loss: 1.4677 - val_accuracy: 0.2725\n",
            "Epoch 132/200\n",
            "20/20 [==============================] - 5s 238ms/step - loss: 1.4842 - accuracy: 0.4175 - val_loss: 1.6254 - val_accuracy: 0.1950\n",
            "Epoch 133/200\n",
            "20/20 [==============================] - 5s 245ms/step - loss: 1.5034 - accuracy: 0.3675 - val_loss: 1.7115 - val_accuracy: 0.1375\n",
            "Epoch 134/200\n",
            "20/20 [==============================] - 5s 239ms/step - loss: 1.6455 - accuracy: 0.2600 - val_loss: 1.6163 - val_accuracy: 0.1100\n",
            "Epoch 135/200\n",
            "20/20 [==============================] - 5s 234ms/step - loss: 1.4595 - accuracy: 0.2625 - val_loss: 1.5100 - val_accuracy: 0.2225\n",
            "Epoch 136/200\n",
            "20/20 [==============================] - 5s 234ms/step - loss: 1.5292 - accuracy: 0.4675 - val_loss: 1.5083 - val_accuracy: 0.2375\n",
            "Epoch 137/200\n",
            "20/20 [==============================] - 5s 237ms/step - loss: 1.5175 - accuracy: 0.3025 - val_loss: 1.4776 - val_accuracy: 0.2550\n",
            "Epoch 138/200\n",
            "20/20 [==============================] - 5s 238ms/step - loss: 1.4494 - accuracy: 0.2925 - val_loss: 1.6519 - val_accuracy: 0.2850\n",
            "Epoch 139/200\n",
            "20/20 [==============================] - 5s 245ms/step - loss: 1.5644 - accuracy: 0.3050 - val_loss: 1.4566 - val_accuracy: 0.2400\n",
            "Epoch 140/200\n",
            "20/20 [==============================] - 5s 240ms/step - loss: 1.5029 - accuracy: 0.3675 - val_loss: 1.3280 - val_accuracy: 0.3600\n",
            "Epoch 141/200\n",
            "20/20 [==============================] - 5s 235ms/step - loss: 1.4567 - accuracy: 0.3525 - val_loss: 1.4451 - val_accuracy: 0.2850\n",
            "Epoch 142/200\n",
            "20/20 [==============================] - 5s 252ms/step - loss: 1.4474 - accuracy: 0.3425 - val_loss: 1.1167 - val_accuracy: 0.4200\n",
            "Epoch 143/200\n",
            "20/20 [==============================] - 5s 235ms/step - loss: 1.6363 - accuracy: 0.4025 - val_loss: 1.5930 - val_accuracy: 0.1325\n",
            "Epoch 144/200\n",
            "20/20 [==============================] - 5s 237ms/step - loss: 1.4075 - accuracy: 0.3125 - val_loss: 1.4608 - val_accuracy: 0.2050\n",
            "Epoch 145/200\n",
            "20/20 [==============================] - 5s 238ms/step - loss: 1.5574 - accuracy: 0.2725 - val_loss: 1.2602 - val_accuracy: 0.3175\n",
            "Epoch 146/200\n",
            "20/20 [==============================] - 5s 239ms/step - loss: 1.4451 - accuracy: 0.2850 - val_loss: 1.4087 - val_accuracy: 0.2525\n",
            "Epoch 147/200\n",
            "20/20 [==============================] - 5s 240ms/step - loss: 1.6815 - accuracy: 0.3125 - val_loss: 1.3668 - val_accuracy: 0.2100\n",
            "Epoch 148/200\n",
            "20/20 [==============================] - 5s 242ms/step - loss: 1.5178 - accuracy: 0.3900 - val_loss: 1.4846 - val_accuracy: 0.1675\n",
            "Epoch 149/200\n",
            "20/20 [==============================] - 5s 240ms/step - loss: 1.5288 - accuracy: 0.4375 - val_loss: 1.2397 - val_accuracy: 0.3275\n",
            "Epoch 150/200\n",
            "20/20 [==============================] - 5s 240ms/step - loss: 1.4474 - accuracy: 0.2575 - val_loss: 1.0363 - val_accuracy: 0.4750\n",
            "Epoch 151/200\n",
            "20/20 [==============================] - 5s 244ms/step - loss: 1.4527 - accuracy: 0.3400 - val_loss: 1.3728 - val_accuracy: 0.3475\n",
            "Epoch 152/200\n",
            "20/20 [==============================] - 5s 241ms/step - loss: 1.4918 - accuracy: 0.2900 - val_loss: 1.4116 - val_accuracy: 0.2575\n",
            "Epoch 153/200\n",
            "20/20 [==============================] - 5s 246ms/step - loss: 1.4560 - accuracy: 0.3825 - val_loss: 3.0676 - val_accuracy: 0.2600\n",
            "Epoch 154/200\n",
            "20/20 [==============================] - 5s 244ms/step - loss: 1.4057 - accuracy: 0.4450 - val_loss: 1.4107 - val_accuracy: 0.4150\n",
            "Epoch 155/200\n",
            "20/20 [==============================] - 5s 246ms/step - loss: 1.6161 - accuracy: 0.4150 - val_loss: 1.4424 - val_accuracy: 0.4275\n",
            "Epoch 156/200\n",
            "20/20 [==============================] - 5s 238ms/step - loss: 1.4325 - accuracy: 0.3500 - val_loss: 1.2565 - val_accuracy: 0.4475\n",
            "Epoch 157/200\n",
            "20/20 [==============================] - 5s 244ms/step - loss: 1.4454 - accuracy: 0.3500 - val_loss: 2.9154 - val_accuracy: 0.1050\n",
            "Epoch 158/200\n",
            "20/20 [==============================] - 5s 247ms/step - loss: 1.7004 - accuracy: 0.3675 - val_loss: 1.3603 - val_accuracy: 0.3150\n",
            "Epoch 159/200\n",
            "20/20 [==============================] - 5s 242ms/step - loss: 1.3597 - accuracy: 0.3500 - val_loss: 1.5136 - val_accuracy: 0.2500\n",
            "Epoch 160/200\n",
            "20/20 [==============================] - 5s 244ms/step - loss: 1.5199 - accuracy: 0.2800 - val_loss: 1.4631 - val_accuracy: 0.2350\n",
            "Epoch 161/200\n",
            "20/20 [==============================] - 5s 242ms/step - loss: 1.5291 - accuracy: 0.3700 - val_loss: 1.6987 - val_accuracy: 0.1750\n",
            "Epoch 162/200\n",
            "20/20 [==============================] - 5s 238ms/step - loss: 1.4110 - accuracy: 0.4058 - val_loss: 1.5342 - val_accuracy: 0.1800\n",
            "Epoch 163/200\n",
            "20/20 [==============================] - 5s 239ms/step - loss: 1.4156 - accuracy: 0.3975 - val_loss: 2.3318 - val_accuracy: 0.0875\n",
            "Epoch 164/200\n",
            "20/20 [==============================] - 5s 237ms/step - loss: 1.5067 - accuracy: 0.3350 - val_loss: 1.4584 - val_accuracy: 0.2375\n",
            "Epoch 165/200\n",
            "20/20 [==============================] - 5s 243ms/step - loss: 1.3955 - accuracy: 0.4050 - val_loss: 3.5242 - val_accuracy: 0.2750\n",
            "Epoch 166/200\n",
            "20/20 [==============================] - 5s 251ms/step - loss: 1.5835 - accuracy: 0.3450 - val_loss: 1.5236 - val_accuracy: 0.1425\n",
            "Epoch 167/200\n",
            "20/20 [==============================] - 5s 256ms/step - loss: 1.7245 - accuracy: 0.3000 - val_loss: 1.3962 - val_accuracy: 0.3625\n",
            "Epoch 168/200\n",
            "20/20 [==============================] - 5s 252ms/step - loss: 1.4482 - accuracy: 0.3675 - val_loss: 1.4059 - val_accuracy: 0.2850\n",
            "Epoch 169/200\n",
            "20/20 [==============================] - 5s 249ms/step - loss: 1.5129 - accuracy: 0.3953 - val_loss: 1.4397 - val_accuracy: 0.2350\n",
            "Epoch 170/200\n",
            "20/20 [==============================] - 5s 249ms/step - loss: 1.4394 - accuracy: 0.3125 - val_loss: 1.5014 - val_accuracy: 0.2300\n",
            "Epoch 171/200\n",
            "20/20 [==============================] - 5s 266ms/step - loss: 1.5033 - accuracy: 0.3775 - val_loss: 1.4773 - val_accuracy: 0.2075\n",
            "Epoch 172/200\n",
            "20/20 [==============================] - 5s 252ms/step - loss: 1.5569 - accuracy: 0.3025 - val_loss: 1.5461 - val_accuracy: 0.1775\n",
            "Epoch 173/200\n",
            "20/20 [==============================] - 5s 247ms/step - loss: 1.4514 - accuracy: 0.3429 - val_loss: 1.6564 - val_accuracy: 0.3100\n",
            "Epoch 174/200\n",
            "20/20 [==============================] - 5s 263ms/step - loss: 1.5773 - accuracy: 0.2600 - val_loss: 1.4977 - val_accuracy: 0.1850\n",
            "Epoch 175/200\n",
            "20/20 [==============================] - 5s 260ms/step - loss: 1.5295 - accuracy: 0.3900 - val_loss: 1.2061 - val_accuracy: 0.4225\n",
            "Epoch 176/200\n",
            "20/20 [==============================] - 5s 249ms/step - loss: 1.5112 - accuracy: 0.3450 - val_loss: 1.5071 - val_accuracy: 0.1850\n",
            "Epoch 177/200\n",
            "20/20 [==============================] - 5s 246ms/step - loss: 1.3521 - accuracy: 0.3450 - val_loss: 2.2457 - val_accuracy: 0.1850\n",
            "Epoch 178/200\n",
            "20/20 [==============================] - 5s 256ms/step - loss: 1.4923 - accuracy: 0.3600 - val_loss: 1.5075 - val_accuracy: 0.2450\n",
            "Epoch 179/200\n",
            "20/20 [==============================] - 5s 265ms/step - loss: 1.4496 - accuracy: 0.3600 - val_loss: 1.6521 - val_accuracy: 0.1050\n",
            "Epoch 180/200\n",
            "20/20 [==============================] - 5s 243ms/step - loss: 1.6516 - accuracy: 0.2075 - val_loss: 1.2041 - val_accuracy: 0.3750\n",
            "Epoch 181/200\n",
            "20/20 [==============================] - 5s 243ms/step - loss: 1.6802 - accuracy: 0.2600 - val_loss: 1.2210 - val_accuracy: 0.4150\n",
            "Epoch 182/200\n",
            "20/20 [==============================] - 5s 258ms/step - loss: 1.2953 - accuracy: 0.4300 - val_loss: 1.9745 - val_accuracy: 0.1975\n",
            "Epoch 183/200\n",
            "20/20 [==============================] - 5s 251ms/step - loss: 1.5167 - accuracy: 0.4225 - val_loss: 1.4195 - val_accuracy: 0.3825\n",
            "Epoch 184/200\n",
            "20/20 [==============================] - 5s 252ms/step - loss: 1.2883 - accuracy: 0.3600 - val_loss: 0.9801 - val_accuracy: 0.5300\n",
            "Epoch 185/200\n",
            "20/20 [==============================] - 5s 256ms/step - loss: 1.5058 - accuracy: 0.2950 - val_loss: 1.3374 - val_accuracy: 0.3000\n",
            "Epoch 186/200\n",
            "20/20 [==============================] - 5s 246ms/step - loss: 1.4813 - accuracy: 0.3900 - val_loss: 1.4434 - val_accuracy: 0.3150\n",
            "Epoch 187/200\n",
            "20/20 [==============================] - 5s 248ms/step - loss: 2.0580 - accuracy: 0.4825 - val_loss: 1.5985 - val_accuracy: 0.1950\n",
            "Epoch 188/200\n",
            "20/20 [==============================] - 5s 247ms/step - loss: 1.4132 - accuracy: 0.3650 - val_loss: 1.2907 - val_accuracy: 0.3175\n",
            "Epoch 189/200\n",
            "20/20 [==============================] - 5s 252ms/step - loss: 1.3435 - accuracy: 0.3900 - val_loss: 1.4403 - val_accuracy: 0.2175\n",
            "Epoch 190/200\n",
            "20/20 [==============================] - 5s 246ms/step - loss: 1.5319 - accuracy: 0.4000 - val_loss: 1.4570 - val_accuracy: 0.3175\n",
            "Epoch 191/200\n",
            "20/20 [==============================] - 5s 244ms/step - loss: 1.7824 - accuracy: 0.4825 - val_loss: 1.5660 - val_accuracy: 0.2775\n",
            "Epoch 192/200\n",
            "20/20 [==============================] - 5s 242ms/step - loss: 1.3670 - accuracy: 0.4375 - val_loss: 1.3711 - val_accuracy: 0.3100\n",
            "Epoch 193/200\n",
            "20/20 [==============================] - 5s 240ms/step - loss: 1.4134 - accuracy: 0.3560 - val_loss: 1.4868 - val_accuracy: 0.2225\n",
            "Epoch 194/200\n",
            "20/20 [==============================] - 5s 244ms/step - loss: 1.4438 - accuracy: 0.2513 - val_loss: 1.2131 - val_accuracy: 0.3900\n",
            "Epoch 195/200\n",
            "20/20 [==============================] - 5s 254ms/step - loss: 1.4759 - accuracy: 0.4575 - val_loss: 1.6383 - val_accuracy: 0.1225\n",
            "Epoch 196/200\n",
            "20/20 [==============================] - 5s 244ms/step - loss: 1.3457 - accuracy: 0.4375 - val_loss: 2.2038 - val_accuracy: 0.1025\n",
            "Epoch 197/200\n",
            "20/20 [==============================] - 5s 250ms/step - loss: 1.3409 - accuracy: 0.4525 - val_loss: 2.4657 - val_accuracy: 0.5375\n",
            "Epoch 198/200\n",
            "20/20 [==============================] - 5s 247ms/step - loss: 1.3809 - accuracy: 0.4825 - val_loss: 1.9572 - val_accuracy: 0.2975\n",
            "Epoch 199/200\n",
            "20/20 [==============================] - 5s 250ms/step - loss: 1.3629 - accuracy: 0.5325 - val_loss: 1.6357 - val_accuracy: 0.3425\n",
            "Epoch 200/200\n",
            "20/20 [==============================] - 5s 250ms/step - loss: 1.4898 - accuracy: 0.2950 - val_loss: 1.2361 - val_accuracy: 0.4875\n"
          ],
          "name": "stdout"
        },
        {
          "output_type": "execute_result",
          "data": {
            "text/plain": [
              "<tensorflow.python.keras.callbacks.History at 0x7fbf7623ff50>"
            ]
          },
          "metadata": {
            "tags": []
          },
          "execution_count": 15
        }
      ]
    },
    {
      "cell_type": "code",
      "metadata": {
        "id": "kAMVOUBUhcj9",
        "colab": {
          "base_uri": "https://localhost:8080/"
        },
        "outputId": "f05779b4-d552-41ba-8335-2544501901e9"
      },
      "source": [
        "Y = model.predict(validation_Data)\n",
        "Y"
      ],
      "execution_count": 16,
      "outputs": [
        {
          "output_type": "execute_result",
          "data": {
            "text/plain": [
              "array([[0.06396758, 0.28166777, 0.09687719, 0.30413193, 0.25335562],\n",
              "       [0.13609818, 0.21232423, 0.14435028, 0.23810579, 0.26912153],\n",
              "       [0.15228616, 0.20843257, 0.16946109, 0.19717062, 0.27264956],\n",
              "       ...,\n",
              "       [0.16208746, 0.2160974 , 0.1732124 , 0.19690016, 0.2517025 ],\n",
              "       [0.21696241, 0.47454023, 0.14499447, 0.00499005, 0.15851283],\n",
              "       [0.21866037, 0.43699703, 0.15704042, 0.00942433, 0.17787783]],\n",
              "      dtype=float32)"
            ]
          },
          "metadata": {
            "tags": []
          },
          "execution_count": 16
        }
      ]
    },
    {
      "cell_type": "code",
      "metadata": {
        "id": "QqNFjb8psS3x",
        "colab": {
          "base_uri": "https://localhost:8080/"
        },
        "outputId": "d59a44f4-a82c-406f-d577-26a2a97a9e3a"
      },
      "source": [
        "predict_class = np.argmax(Y, axis=1)\n",
        "#predict_class = predict_class.tolist()\n",
        "predict_class[0:800]"
      ],
      "execution_count": 17,
      "outputs": [
        {
          "output_type": "execute_result",
          "data": {
            "text/plain": [
              "array([3, 4, 4, 4, 1, 1, 1, 4, 1, 1, 1, 1, 1, 1, 1, 1, 1, 1, 1, 1, 1, 1,\n",
              "       1, 1, 1, 1, 4, 1, 1, 1, 1, 4, 1, 1, 1, 1, 1, 1, 1, 1, 1, 1, 1, 4,\n",
              "       4, 1, 1, 1, 1, 2, 1, 1, 1, 1, 4, 1, 4, 1, 1, 1, 1, 1, 1, 1, 1, 1,\n",
              "       1, 1, 1, 1, 1, 1, 4, 4, 4, 1, 1, 2, 1, 1, 1, 1, 1, 1, 1, 1, 1, 1,\n",
              "       1, 1, 1, 4, 1, 1, 1, 1, 1, 1, 1, 1, 4, 1, 1, 1, 1, 1, 1, 1, 1, 1,\n",
              "       1, 1, 1, 1, 1, 1, 4, 1, 1, 1, 4, 1, 1, 1, 4, 1, 1, 1, 1, 4, 1, 1,\n",
              "       1, 1, 4, 1, 1, 1, 1, 1, 1, 1, 1, 1, 1, 4, 1, 4, 1, 1, 1, 1, 4, 1,\n",
              "       1, 4, 1, 1, 1, 1, 1, 1, 1, 1, 1, 1, 1, 1, 4, 4, 1, 1, 1, 1, 1, 1,\n",
              "       4, 1, 4, 4, 1, 1, 1, 1, 1, 1, 1, 1, 1, 1, 1, 1, 1, 1, 1, 1, 1, 1,\n",
              "       1, 1, 1, 1, 1, 1, 1, 1, 4, 1, 1, 4, 1, 1, 1, 1, 1, 1, 1, 1, 1, 1,\n",
              "       1, 1, 1, 1, 1, 1, 1, 1, 1, 1, 1, 1, 1, 1, 4, 1, 1, 1, 1, 1, 1, 2,\n",
              "       1, 1, 1, 1, 1, 1, 1, 1, 1, 4, 1, 1, 1, 4, 1, 1, 4, 1, 4, 1, 1, 1,\n",
              "       1, 1, 1, 4, 1, 1, 1, 1, 1, 1, 1, 1, 1, 1, 1, 1, 1, 1, 1, 1, 1, 1,\n",
              "       1, 1, 1, 1, 1, 1, 1, 1, 1, 1, 1, 1, 4, 1, 1, 1, 1, 4, 1, 1, 4, 1,\n",
              "       1, 1, 1, 4, 1, 1, 1, 1, 1, 1, 1, 1, 1, 1, 2, 1, 1, 1, 1, 1, 1, 1,\n",
              "       1, 1, 1, 4, 1, 1, 4, 1, 1, 1, 4, 1, 1, 1, 1, 1, 1, 1, 1, 1, 1, 1,\n",
              "       1, 1, 1, 1, 1, 1, 1, 1, 1, 1, 1, 1, 1, 2, 1, 2, 1, 2, 4, 4, 2, 1,\n",
              "       2, 4, 4, 4, 1, 1, 1, 4, 4, 4, 2, 2, 1, 1, 4, 4, 4, 1, 2, 1, 1, 1,\n",
              "       1, 1, 1, 4, 2, 1, 2, 1, 2, 4, 1, 1, 2, 1, 1, 4, 1, 1, 2, 2, 1, 1,\n",
              "       1, 1, 4, 2, 2, 1, 4, 4, 2, 1, 1, 4, 2, 1, 2, 1, 4, 2, 1, 1, 4, 2,\n",
              "       4, 1, 4, 1, 2, 1, 2, 4, 4, 1, 1, 2, 4, 2, 4, 4, 1, 2, 4, 1, 4, 2,\n",
              "       2, 1, 4, 1, 2, 4, 4, 4, 1, 2, 1, 2, 2, 2, 1, 1, 1, 4, 4, 4, 2, 4,\n",
              "       1, 1, 2, 4, 2, 1, 2, 4, 1, 1, 4, 4, 4, 4, 4, 2, 1, 1, 4, 2, 4, 4,\n",
              "       1, 1, 2, 4, 4, 4, 4, 4, 1, 4, 2, 4, 1, 1, 1, 1, 1, 4, 4, 1, 1, 3,\n",
              "       4, 4, 4, 1, 4, 4, 4, 1, 1, 1, 1, 3, 1, 3, 1, 1, 1, 1, 1, 1, 1, 1,\n",
              "       1, 4, 1, 4, 4, 1, 1, 4, 4, 1, 4, 1, 1, 1, 1, 1, 1, 1, 1, 1, 1, 1,\n",
              "       1, 1, 1, 1, 1, 1, 4, 4, 4, 4, 4, 1, 4, 1, 1, 1, 1, 4, 1, 1, 1, 4,\n",
              "       4, 1, 4, 4, 1, 1, 1, 1, 4, 4, 1, 1, 1, 1, 4, 1, 1, 1, 1, 1, 1, 1,\n",
              "       4, 4, 4, 1, 1, 1, 1, 4, 1, 1, 1, 1, 4, 1, 1, 4, 1, 1, 1, 4, 1, 1,\n",
              "       1, 1, 1, 1, 1, 1, 1, 4, 4, 1, 1, 1, 1, 1, 3, 1, 1, 1, 1, 1, 1, 1,\n",
              "       1, 1, 1, 1, 1, 1, 1, 1, 4, 4, 4, 2, 1, 2, 4, 1, 4, 4, 4, 4, 2, 4,\n",
              "       1, 2, 4, 4, 4, 1, 1, 1, 2, 4, 4, 2, 1, 1, 1, 4, 4, 2, 4, 1, 1, 2,\n",
              "       1, 4, 2, 2, 2, 2, 1, 2, 4, 4, 1, 2, 2, 2, 2, 1, 1, 2, 4, 2, 1, 4,\n",
              "       4, 1, 4, 4, 4, 4, 4, 1, 4, 2, 1, 4, 4, 4, 1, 4, 4, 1, 1, 1, 4, 1,\n",
              "       4, 1, 4, 4, 4, 1, 4, 2, 4, 4, 4, 1, 1, 1, 2, 4, 2, 1, 1, 1, 4, 1,\n",
              "       1, 2, 1, 4, 1, 1, 1, 4, 1, 1, 2, 4, 1, 1, 4, 1, 4, 1, 1, 1, 1, 1,\n",
              "       1, 4, 4, 1, 1, 1, 1, 2])"
            ]
          },
          "metadata": {
            "tags": []
          },
          "execution_count": 17
        }
      ]
    },
    {
      "cell_type": "code",
      "metadata": {
        "id": "hI7bNIGirM9a",
        "colab": {
          "base_uri": "https://localhost:8080/"
        },
        "outputId": "81354cf2-9d82-4aed-98bf-7e0e3d596c07"
      },
      "source": [
        "validation_Data.labels"
      ],
      "execution_count": 18,
      "outputs": [
        {
          "output_type": "execute_result",
          "data": {
            "text/plain": [
              "array([0, 0, 0, 0, 0, 0, 0, 0, 0, 0, 0, 0, 0, 0, 0, 0, 0, 0, 0, 0, 0, 0,\n",
              "       0, 0, 0, 0, 0, 0, 0, 0, 0, 0, 0, 0, 0, 0, 0, 0, 0, 0, 0, 0, 0, 0,\n",
              "       0, 0, 0, 0, 0, 0, 0, 0, 0, 0, 0, 0, 0, 0, 0, 0, 0, 0, 0, 0, 0, 0,\n",
              "       0, 0, 0, 0, 0, 0, 0, 0, 0, 0, 0, 0, 0, 0, 0, 0, 0, 0, 0, 0, 0, 0,\n",
              "       0, 0, 0, 0, 0, 0, 0, 0, 0, 0, 0, 0, 0, 0, 0, 0, 0, 0, 0, 0, 0, 0,\n",
              "       0, 0, 0, 0, 0, 0, 0, 0, 0, 0, 0, 0, 0, 0, 0, 0, 0, 0, 0, 0, 0, 0,\n",
              "       0, 0, 0, 0, 0, 0, 0, 0, 0, 0, 0, 0, 0, 0, 0, 0, 0, 0, 0, 0, 0, 1,\n",
              "       1, 1, 1, 1, 1, 1, 1, 1, 1, 1, 1, 1, 1, 1, 1, 1, 1, 1, 1, 1, 1, 1,\n",
              "       1, 1, 1, 1, 1, 1, 1, 1, 1, 1, 1, 1, 1, 1, 1, 1, 1, 1, 1, 1, 1, 1,\n",
              "       1, 1, 1, 1, 1, 1, 1, 1, 1, 1, 1, 1, 1, 1, 1, 1, 1, 1, 1, 1, 1, 1,\n",
              "       1, 1, 1, 1, 1, 1, 1, 1, 1, 1, 1, 1, 1, 1, 1, 1, 1, 1, 1, 1, 1, 1,\n",
              "       1, 1, 1, 1, 1, 1, 1, 1, 1, 1, 1, 1, 1, 1, 1, 1, 1, 1, 1, 1, 1, 1,\n",
              "       1, 1, 1, 1, 1, 1, 1, 1, 1, 1, 1, 1, 1, 1, 1, 1, 1, 1, 1, 1, 1, 1,\n",
              "       1, 1, 1, 1, 1, 1, 1, 1, 1, 1, 1, 1, 1, 1, 1, 1, 1, 1, 1, 1, 1, 1,\n",
              "       1, 1, 1, 1, 1, 1, 1, 1, 1, 1, 1, 1, 1, 1, 1, 1, 1, 1, 1, 1, 1, 1,\n",
              "       1, 1, 1, 1, 1, 1, 1, 1, 1, 1, 1, 1, 1, 1, 1, 1, 1, 1, 1, 1, 1, 1,\n",
              "       1, 1, 1, 1, 1, 1, 1, 1, 1, 1, 1, 2, 2, 2, 2, 2, 2, 2, 2, 2, 2, 2,\n",
              "       2, 2, 2, 2, 2, 2, 2, 2, 2, 2, 2, 2, 2, 2, 2, 2, 2, 2, 2, 2, 2, 2,\n",
              "       2, 2, 2, 2, 2, 2, 2, 2, 2, 2, 2, 2, 2, 2, 2, 2, 2, 2, 2, 2, 2, 2,\n",
              "       2, 2, 2, 2, 2, 2, 2, 2, 2, 2, 2, 2, 2, 2, 2, 2, 2, 2, 2, 2, 2, 2,\n",
              "       2, 2, 2, 2, 2, 2, 2, 2, 2, 2, 2, 2, 2, 2, 2, 2, 2, 2, 2, 2, 2, 2,\n",
              "       2, 2, 2, 2, 2, 2, 2, 2, 2, 2, 2, 2, 2, 2, 2, 2, 2, 2, 2, 2, 2, 2,\n",
              "       2, 2, 2, 2, 2, 2, 2, 2, 2, 2, 2, 2, 2, 2, 2, 2, 2, 2, 2, 2, 2, 2,\n",
              "       2, 2, 2, 2, 2, 2, 2, 2, 2, 2, 2, 2, 2, 3, 3, 3, 3, 3, 3, 3, 3, 3,\n",
              "       3, 3, 3, 3, 3, 3, 3, 3, 3, 3, 3, 3, 3, 3, 3, 3, 3, 3, 3, 3, 3, 3,\n",
              "       3, 3, 3, 3, 3, 3, 3, 3, 3, 3, 3, 3, 3, 3, 3, 3, 3, 3, 3, 3, 3, 3,\n",
              "       3, 3, 3, 3, 3, 3, 3, 3, 3, 3, 3, 3, 3, 3, 3, 3, 3, 3, 3, 3, 3, 3,\n",
              "       3, 3, 3, 3, 3, 3, 3, 3, 3, 3, 3, 3, 3, 3, 3, 3, 3, 3, 3, 3, 3, 3,\n",
              "       3, 3, 3, 3, 3, 3, 3, 3, 3, 3, 3, 3, 3, 3, 3, 3, 3, 3, 3, 3, 3, 3,\n",
              "       3, 3, 3, 3, 3, 3, 3, 3, 3, 3, 3, 3, 3, 3, 3, 3, 3, 3, 3, 3, 3, 3,\n",
              "       3, 3, 3, 3, 3, 4, 4, 4, 4, 4, 4, 4, 4, 4, 4, 4, 4, 4, 4, 4, 4, 4,\n",
              "       4, 4, 4, 4, 4, 4, 4, 4, 4, 4, 4, 4, 4, 4, 4, 4, 4, 4, 4, 4, 4, 4,\n",
              "       4, 4, 4, 4, 4, 4, 4, 4, 4, 4, 4, 4, 4, 4, 4, 4, 4, 4, 4, 4, 4, 4,\n",
              "       4, 4, 4, 4, 4, 4, 4, 4, 4, 4, 4, 4, 4, 4, 4, 4, 4, 4, 4, 4, 4, 4,\n",
              "       4, 4, 4, 4, 4, 4, 4, 4, 4, 4, 4, 4, 4, 4, 4, 4, 4, 4, 4, 4, 4, 4,\n",
              "       4, 4, 4, 4, 4, 4, 4, 4, 4, 4, 4, 4, 4, 4, 4, 4, 4, 4, 4, 4, 4, 4,\n",
              "       4, 4, 4, 4, 4, 4, 4, 4, 4, 4, 4, 4, 4, 4, 4, 4, 4, 4, 4, 4, 4, 4,\n",
              "       4, 4, 4, 4, 4, 4, 4, 4, 4, 4, 4, 4, 4, 4, 4, 4, 4, 4, 4, 4, 4, 4,\n",
              "       4, 4, 4, 4, 4, 4, 4, 4, 4, 4, 4, 4, 4, 4, 4, 4, 4, 4, 4, 4, 4, 4,\n",
              "       4, 4, 4], dtype=int32)"
            ]
          },
          "metadata": {
            "tags": []
          },
          "execution_count": 18
        }
      ]
    }
  ]
}