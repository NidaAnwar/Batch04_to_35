{
  "nbformat": 4,
  "nbformat_minor": 0,
  "metadata": {
    "colab": {
      "name": "Piaic_89896_NidaAnwarFashion_MNIST",
      "provenance": [],
      "collapsed_sections": []
    },
    "kernelspec": {
      "name": "python3",
      "display_name": "Python 3"
    }
  },
  "cells": [
    {
      "cell_type": "code",
      "metadata": {
        "colab": {
          "base_uri": "https://localhost:8080/"
        },
        "id": "dpzZ_YisxMWz",
        "outputId": "21dc4a86-f3d7-45c6-82e9-849f4c0c9aa8"
      },
      "source": [
        "#Loading fashion_mnist dataset with Keras\r\n",
        "\r\n",
        "from tensorflow.keras.datasets import fashion_mnist\r\n",
        "(train_images, train_labels),(test_images,test_labels) = fashion_mnist.load_data()\r\n",
        "\r\n",
        "print(len(train_images))\r\n",
        "print(len(train_labels))\r\n",
        "\r\n",
        "print(len(test_images))\r\n",
        "print(len(test_labels))\r\n",
        "\r\n",
        "print(train_images.ndim)\r\n",
        "print(train_images.shape)\r\n",
        "print(train_images.dtype)\r\n",
        "print(type(train_images.ndim))"
      ],
      "execution_count": 19,
      "outputs": [
        {
          "output_type": "stream",
          "text": [
            "60000\n",
            "60000\n",
            "10000\n",
            "10000\n",
            "3\n",
            "(60000, 28, 28)\n",
            "uint8\n",
            "<class 'int'>\n"
          ],
          "name": "stdout"
        }
      ]
    },
    {
      "cell_type": "code",
      "metadata": {
        "colab": {
          "base_uri": "https://localhost:8080/",
          "height": 282
        },
        "id": "TthFxnVcynwI",
        "outputId": "54a39e28-4ae6-47d8-de20-f8199aef9212"
      },
      "source": [
        "# Image of Fashion_MNIST\r\n",
        "import matplotlib.pyplot as plt\r\n",
        "dress = train_images[3]\r\n",
        "print(\"Class_Labels=\",train_labels[3])\r\n",
        "plt.imshow(dress,cmap=plt.cm.binary)\r\n",
        "plt.show()"
      ],
      "execution_count": 20,
      "outputs": [
        {
          "output_type": "stream",
          "text": [
            "Class_Labels= 3\n"
          ],
          "name": "stdout"
        },
        {
          "output_type": "display_data",
          "data": {
            "image/png": "[encoded data removed]",
            "text/plain": [
              "<Figure size 432x288 with 1 Axes>"
            ]
          },
          "metadata": {
            "tags": [],
            "needs_background": "light"
          }
        }
      ]
    },
    {
      "cell_type": "code",
      "metadata": {
        "id": "SLockB1ezDQq"
      },
      "source": [
        "from tensorflow.keras import models\r\n",
        "from tensorflow.keras import layers\r\n",
        "Network = models.Sequential()\r\n",
        "Network.add(layers.Dense(512, activation='relu',input_shape=(28*28,)))\r\n",
        "Network.add(layers.Dense(10, activation='softmax'))"
      ],
      "execution_count": 21,
      "outputs": []
    },
    {
      "cell_type": "code",
      "metadata": {
        "colab": {
          "base_uri": "https://localhost:8080/"
        },
        "id": "qm2l6le8zRIQ",
        "outputId": "d688a898-093f-43c2-d7eb-9319ab5fa04d"
      },
      "source": [
        "# Compilation\r\n",
        "Network.compile(optimizer='rmsprop',\r\n",
        "                loss='categorical_crossentropy',\r\n",
        "                metrics=['accuracy'])\r\n",
        "train_images.ndim"
      ],
      "execution_count": 22,
      "outputs": [
        {
          "output_type": "execute_result",
          "data": {
            "text/plain": [
              "3"
            ]
          },
          "metadata": {
            "tags": []
          },
          "execution_count": 22
        }
      ]
    },
    {
      "cell_type": "code",
      "metadata": {
        "colab": {
          "base_uri": "https://localhost:8080/"
        },
        "id": "SHJjXgfCzapY",
        "outputId": "b31c7101-3201-41fc-e10d-e5fe05150878"
      },
      "source": [
        "#Preparing the image data\r\n",
        "train_images=train_images.reshape(60000,28*28)\r\n",
        "train_images=train_images.astype('float32')/255  # Normalization\r\n",
        "\r\n",
        "test_images=test_images.reshape(10000,28*28)\r\n",
        "test_images=test_images.astype('float32')/255  # Normalization\r\n",
        "\r\n",
        "# Preparing Labels\r\n",
        "train_labels[3]"
      ],
      "execution_count": 23,
      "outputs": [
        {
          "output_type": "execute_result",
          "data": {
            "text/plain": [
              "3"
            ]
          },
          "metadata": {
            "tags": []
          },
          "execution_count": 23
        }
      ]
    },
    {
      "cell_type": "code",
      "metadata": {
        "colab": {
          "base_uri": "https://localhost:8080/"
        },
        "id": "ktZMFl9ezk1Q",
        "outputId": "e1b86e58-c38c-40c9-e101-9143c7f9182b"
      },
      "source": [
        "# One Hot Encoding\r\n",
        "from tensorflow.keras.utils import to_categorical\r\n",
        "train_labels=to_categorical(train_labels)\r\n",
        "test_labels=to_categorical(test_labels)\r\n",
        "\r\n",
        "train_labels[3]"
      ],
      "execution_count": 24,
      "outputs": [
        {
          "output_type": "execute_result",
          "data": {
            "text/plain": [
              "array([0., 0., 0., 1., 0., 0., 0., 0., 0., 0.], dtype=float32)"
            ]
          },
          "metadata": {
            "tags": []
          },
          "execution_count": 24
        }
      ]
    },
    {
      "cell_type": "code",
      "metadata": {
        "colab": {
          "base_uri": "https://localhost:8080/"
        },
        "id": "tmw04rtizpkj",
        "outputId": "67d5090b-8d26-4a8c-84cd-e56b68ba1fd3"
      },
      "source": [
        "#Train Model\r\n",
        "Network.fit(train_images,train_labels,epochs=10,batch_size=128)"
      ],
      "execution_count": 25,
      "outputs": [
        {
          "output_type": "stream",
          "text": [
            "Epoch 1/10\n",
            "469/469 [==============================] - 4s 8ms/step - loss: 0.7560 - accuracy: 0.7407\n",
            "Epoch 2/10\n",
            "469/469 [==============================] - 4s 8ms/step - loss: 0.4016 - accuracy: 0.8558\n",
            "Epoch 3/10\n",
            "469/469 [==============================] - 4s 8ms/step - loss: 0.3419 - accuracy: 0.8723\n",
            "Epoch 4/10\n",
            "469/469 [==============================] - 4s 8ms/step - loss: 0.3123 - accuracy: 0.8840\n",
            "Epoch 5/10\n",
            "469/469 [==============================] - 4s 8ms/step - loss: 0.2927 - accuracy: 0.8922\n",
            "Epoch 6/10\n",
            "469/469 [==============================] - 4s 8ms/step - loss: 0.2790 - accuracy: 0.8963\n",
            "Epoch 7/10\n",
            "469/469 [==============================] - 4s 8ms/step - loss: 0.2673 - accuracy: 0.9030\n",
            "Epoch 8/10\n",
            "469/469 [==============================] - 4s 9ms/step - loss: 0.2516 - accuracy: 0.9069\n",
            "Epoch 9/10\n",
            "469/469 [==============================] - 4s 8ms/step - loss: 0.2397 - accuracy: 0.9126\n",
            "Epoch 10/10\n",
            "469/469 [==============================] - 4s 8ms/step - loss: 0.2308 - accuracy: 0.9154\n"
          ],
          "name": "stdout"
        },
        {
          "output_type": "execute_result",
          "data": {
            "text/plain": [
              "<tensorflow.python.keras.callbacks.History at 0x7fa0f63a3160>"
            ]
          },
          "metadata": {
            "tags": []
          },
          "execution_count": 25
        }
      ]
    },
    {
      "cell_type": "code",
      "metadata": {
        "colab": {
          "base_uri": "https://localhost:8080/"
        },
        "id": "vCcGzfZQz1jq",
        "outputId": "3c7e8d01-068b-4950-ddf8-93c5e7854cb3"
      },
      "source": [
        "#Check Model performance of Test Data\r\n",
        "test_loss,test_acc=Network.evaluate(test_images,test_labels)\r\n",
        "print(\"Accuracy: \",test_acc,\"\\nTest Loss Value:\",test_loss)\r\n",
        "test_labels[7]"
      ],
      "execution_count": 26,
      "outputs": [
        {
          "output_type": "stream",
          "text": [
            "313/313 [==============================] - 1s 3ms/step - loss: 0.3514 - accuracy: 0.8789\n",
            "Accuracy:  0.8788999915122986 \n",
            "Test Loss Value: 0.35142549872398376\n"
          ],
          "name": "stdout"
        },
        {
          "output_type": "execute_result",
          "data": {
            "text/plain": [
              "array([0., 0., 0., 0., 0., 0., 1., 0., 0., 0.], dtype=float32)"
            ]
          },
          "metadata": {
            "tags": []
          },
          "execution_count": 26
        }
      ]
    },
    {
      "cell_type": "code",
      "metadata": {
        "id": "OO8BG0zZz5jX"
      },
      "source": [
        ""
      ],
      "execution_count": null,
      "outputs": []
    }
  ]
}