{
  "nbformat": 4,
  "nbformat_minor": 0,
  "metadata": {
    "colab": {
      "name": "PIAIC-89896_Nida_Concrete_Strength.ipynb",
      "provenance": []
    },
    "kernelspec": {
      "name": "python3",
      "display_name": "Python 3"
    },
    "language_info": {
      "name": "python"
    }
  },
  "cells": [
    {
      "cell_type": "code",
      "metadata": {
        "id": "a5dmHLHbvQsX"
      },
      "source": [
        "import numpy as np\n",
        "import pandas as pd\n",
        "import matplotlib.pyplot as plt\n",
        "import seaborn as sns\n",
        "import tensorflow as tf\n",
        "from tensorflow.keras.models import Sequential\n",
        "from tensorflow.keras.layers import Dense\n",
        "from tensorflow.keras.optimizers import Adam,SGD"
      ],
      "execution_count": 3,
      "outputs": []
    },
    {
      "cell_type": "code",
      "metadata": {
        "colab": {
          "base_uri": "https://localhost:8080/",
          "height": 193
        },
        "id": "zhZvJCFYvalu",
        "outputId": "a8a11d37-9a56-46be-e7bc-588492db3494"
      },
      "source": [
        "# Load Data\n",
        "data = pd.read_csv(\"/content/compresive_strength_concrete.txt\")\n",
        "data.head(3)"
      ],
      "execution_count": 4,
      "outputs": [
        {
          "output_type": "execute_result",
          "data": {
            "text/html": [
              "<div>\n",
              "<style scoped>\n",
              "    .dataframe tbody tr th:only-of-type {\n",
              "        vertical-align: middle;\n",
              "    }\n",
              "\n",
              "    .dataframe tbody tr th {\n",
              "        vertical-align: top;\n",
              "    }\n",
              "\n",
              "    .dataframe thead th {\n",
              "        text-align: right;\n",
              "    }\n",
              "</style>\n",
              "<table border=\"1\" class=\"dataframe\">\n",
              "  <thead>\n",
              "    <tr style=\"text-align: right;\">\n",
              "      <th></th>\n",
              "      <th>Cement (component 1)(kg in a m^3 mixture)</th>\n",
              "      <th>Blast Furnace Slag (component 2)(kg in a m^3 mixture)</th>\n",
              "      <th>Fly Ash (component 3)(kg in a m^3 mixture)</th>\n",
              "      <th>Water  (component 4)(kg in a m^3 mixture)</th>\n",
              "      <th>Superplasticizer (component 5)(kg in a m^3 mixture)</th>\n",
              "      <th>Coarse Aggregate  (component 6)(kg in a m^3 mixture)</th>\n",
              "      <th>Fine Aggregate (component 7)(kg in a m^3 mixture)</th>\n",
              "      <th>Age (day)</th>\n",
              "      <th>Concrete compressive strength(MPa, megapascals)</th>\n",
              "    </tr>\n",
              "  </thead>\n",
              "  <tbody>\n",
              "    <tr>\n",
              "      <th>0</th>\n",
              "      <td>540.0</td>\n",
              "      <td>0.0</td>\n",
              "      <td>0.0</td>\n",
              "      <td>162.0</td>\n",
              "      <td>2.5</td>\n",
              "      <td>1040.0</td>\n",
              "      <td>676.0</td>\n",
              "      <td>28</td>\n",
              "      <td>79.99</td>\n",
              "    </tr>\n",
              "    <tr>\n",
              "      <th>1</th>\n",
              "      <td>540.0</td>\n",
              "      <td>0.0</td>\n",
              "      <td>0.0</td>\n",
              "      <td>162.0</td>\n",
              "      <td>2.5</td>\n",
              "      <td>1055.0</td>\n",
              "      <td>676.0</td>\n",
              "      <td>28</td>\n",
              "      <td>61.89</td>\n",
              "    </tr>\n",
              "    <tr>\n",
              "      <th>2</th>\n",
              "      <td>332.5</td>\n",
              "      <td>142.5</td>\n",
              "      <td>0.0</td>\n",
              "      <td>228.0</td>\n",
              "      <td>0.0</td>\n",
              "      <td>932.0</td>\n",
              "      <td>594.0</td>\n",
              "      <td>270</td>\n",
              "      <td>40.27</td>\n",
              "    </tr>\n",
              "  </tbody>\n",
              "</table>\n",
              "</div>"
            ],
            "text/plain": [
              "   Cement (component 1)(kg in a m^3 mixture)  ...  Concrete compressive strength(MPa, megapascals) \n",
              "0                                      540.0  ...                                             79.99\n",
              "1                                      540.0  ...                                             61.89\n",
              "2                                      332.5  ...                                             40.27\n",
              "\n",
              "[3 rows x 9 columns]"
            ]
          },
          "metadata": {
            "tags": []
          },
          "execution_count": 4
        }
      ]
    },
    {
      "cell_type": "code",
      "metadata": {
        "colab": {
          "base_uri": "https://localhost:8080/"
        },
        "id": "ZKrxonoTv-p0",
        "outputId": "26420d6f-7094-4e8a-8bc2-97afd84aff87"
      },
      "source": [
        "data.shape"
      ],
      "execution_count": null,
      "outputs": [
        {
          "output_type": "execute_result",
          "data": {
            "text/plain": [
              "(1030, 9)"
            ]
          },
          "metadata": {
            "tags": []
          },
          "execution_count": 17
        }
      ]
    },
    {
      "cell_type": "code",
      "metadata": {
        "colab": {
          "base_uri": "https://localhost:8080/"
        },
        "id": "mo1hN8CxwAqs",
        "outputId": "2a5c8912-e452-4935-cd63-6adccf5c6bc4"
      },
      "source": [
        "data.info()"
      ],
      "execution_count": 5,
      "outputs": [
        {
          "output_type": "stream",
          "text": [
            "<class 'pandas.core.frame.DataFrame'>\n",
            "RangeIndex: 1030 entries, 0 to 1029\n",
            "Data columns (total 9 columns):\n",
            " #   Column                                                 Non-Null Count  Dtype  \n",
            "---  ------                                                 --------------  -----  \n",
            " 0   Cement (component 1)(kg in a m^3 mixture)              1030 non-null   float64\n",
            " 1   Blast Furnace Slag (component 2)(kg in a m^3 mixture)  1030 non-null   float64\n",
            " 2   Fly Ash (component 3)(kg in a m^3 mixture)             1030 non-null   float64\n",
            " 3   Water  (component 4)(kg in a m^3 mixture)              1030 non-null   float64\n",
            " 4   Superplasticizer (component 5)(kg in a m^3 mixture)    1030 non-null   float64\n",
            " 5   Coarse Aggregate  (component 6)(kg in a m^3 mixture)   1030 non-null   float64\n",
            " 6   Fine Aggregate (component 7)(kg in a m^3 mixture)      1030 non-null   float64\n",
            " 7   Age (day)                                              1030 non-null   int64  \n",
            " 8   Concrete compressive strength(MPa, megapascals)        1030 non-null   float64\n",
            "dtypes: float64(8), int64(1)\n",
            "memory usage: 72.5 KB\n"
          ],
          "name": "stdout"
        }
      ]
    },
    {
      "cell_type": "code",
      "metadata": {
        "colab": {
          "base_uri": "https://localhost:8080/",
          "height": 348
        },
        "id": "mnRjsU4VwCen",
        "outputId": "adc19917-a998-4a67-82d7-09df625a2b07"
      },
      "source": [
        "data.describe()"
      ],
      "execution_count": 6,
      "outputs": [
        {
          "output_type": "execute_result",
          "data": {
            "text/html": [
              "<div>\n",
              "<style scoped>\n",
              "    .dataframe tbody tr th:only-of-type {\n",
              "        vertical-align: middle;\n",
              "    }\n",
              "\n",
              "    .dataframe tbody tr th {\n",
              "        vertical-align: top;\n",
              "    }\n",
              "\n",
              "    .dataframe thead th {\n",
              "        text-align: right;\n",
              "    }\n",
              "</style>\n",
              "<table border=\"1\" class=\"dataframe\">\n",
              "  <thead>\n",
              "    <tr style=\"text-align: right;\">\n",
              "      <th></th>\n",
              "      <th>Cement (component 1)(kg in a m^3 mixture)</th>\n",
              "      <th>Blast Furnace Slag (component 2)(kg in a m^3 mixture)</th>\n",
              "      <th>Fly Ash (component 3)(kg in a m^3 mixture)</th>\n",
              "      <th>Water  (component 4)(kg in a m^3 mixture)</th>\n",
              "      <th>Superplasticizer (component 5)(kg in a m^3 mixture)</th>\n",
              "      <th>Coarse Aggregate  (component 6)(kg in a m^3 mixture)</th>\n",
              "      <th>Fine Aggregate (component 7)(kg in a m^3 mixture)</th>\n",
              "      <th>Age (day)</th>\n",
              "      <th>Concrete compressive strength(MPa, megapascals)</th>\n",
              "    </tr>\n",
              "  </thead>\n",
              "  <tbody>\n",
              "    <tr>\n",
              "      <th>count</th>\n",
              "      <td>1030.000000</td>\n",
              "      <td>1030.000000</td>\n",
              "      <td>1030.000000</td>\n",
              "      <td>1030.000000</td>\n",
              "      <td>1030.000000</td>\n",
              "      <td>1030.000000</td>\n",
              "      <td>1030.000000</td>\n",
              "      <td>1030.000000</td>\n",
              "      <td>1030.000000</td>\n",
              "    </tr>\n",
              "    <tr>\n",
              "      <th>mean</th>\n",
              "      <td>281.167864</td>\n",
              "      <td>73.895825</td>\n",
              "      <td>54.188350</td>\n",
              "      <td>181.567282</td>\n",
              "      <td>6.204660</td>\n",
              "      <td>972.918932</td>\n",
              "      <td>773.580485</td>\n",
              "      <td>45.662136</td>\n",
              "      <td>35.817961</td>\n",
              "    </tr>\n",
              "    <tr>\n",
              "      <th>std</th>\n",
              "      <td>104.506364</td>\n",
              "      <td>86.279342</td>\n",
              "      <td>63.997004</td>\n",
              "      <td>21.354219</td>\n",
              "      <td>5.973841</td>\n",
              "      <td>77.753954</td>\n",
              "      <td>80.175980</td>\n",
              "      <td>63.169912</td>\n",
              "      <td>16.705742</td>\n",
              "    </tr>\n",
              "    <tr>\n",
              "      <th>min</th>\n",
              "      <td>102.000000</td>\n",
              "      <td>0.000000</td>\n",
              "      <td>0.000000</td>\n",
              "      <td>121.800000</td>\n",
              "      <td>0.000000</td>\n",
              "      <td>801.000000</td>\n",
              "      <td>594.000000</td>\n",
              "      <td>1.000000</td>\n",
              "      <td>2.330000</td>\n",
              "    </tr>\n",
              "    <tr>\n",
              "      <th>25%</th>\n",
              "      <td>192.375000</td>\n",
              "      <td>0.000000</td>\n",
              "      <td>0.000000</td>\n",
              "      <td>164.900000</td>\n",
              "      <td>0.000000</td>\n",
              "      <td>932.000000</td>\n",
              "      <td>730.950000</td>\n",
              "      <td>7.000000</td>\n",
              "      <td>23.710000</td>\n",
              "    </tr>\n",
              "    <tr>\n",
              "      <th>50%</th>\n",
              "      <td>272.900000</td>\n",
              "      <td>22.000000</td>\n",
              "      <td>0.000000</td>\n",
              "      <td>185.000000</td>\n",
              "      <td>6.400000</td>\n",
              "      <td>968.000000</td>\n",
              "      <td>779.500000</td>\n",
              "      <td>28.000000</td>\n",
              "      <td>34.445000</td>\n",
              "    </tr>\n",
              "    <tr>\n",
              "      <th>75%</th>\n",
              "      <td>350.000000</td>\n",
              "      <td>142.950000</td>\n",
              "      <td>118.300000</td>\n",
              "      <td>192.000000</td>\n",
              "      <td>10.200000</td>\n",
              "      <td>1029.400000</td>\n",
              "      <td>824.000000</td>\n",
              "      <td>56.000000</td>\n",
              "      <td>46.135000</td>\n",
              "    </tr>\n",
              "    <tr>\n",
              "      <th>max</th>\n",
              "      <td>540.000000</td>\n",
              "      <td>359.400000</td>\n",
              "      <td>200.100000</td>\n",
              "      <td>247.000000</td>\n",
              "      <td>32.200000</td>\n",
              "      <td>1145.000000</td>\n",
              "      <td>992.600000</td>\n",
              "      <td>365.000000</td>\n",
              "      <td>82.600000</td>\n",
              "    </tr>\n",
              "  </tbody>\n",
              "</table>\n",
              "</div>"
            ],
            "text/plain": [
              "       Cement (component 1)(kg in a m^3 mixture)  ...  Concrete compressive strength(MPa, megapascals) \n",
              "count                                1030.000000  ...                                       1030.000000\n",
              "mean                                  281.167864  ...                                         35.817961\n",
              "std                                   104.506364  ...                                         16.705742\n",
              "min                                   102.000000  ...                                          2.330000\n",
              "25%                                   192.375000  ...                                         23.710000\n",
              "50%                                   272.900000  ...                                         34.445000\n",
              "75%                                   350.000000  ...                                         46.135000\n",
              "max                                   540.000000  ...                                         82.600000\n",
              "\n",
              "[8 rows x 9 columns]"
            ]
          },
          "metadata": {
            "tags": []
          },
          "execution_count": 6
        }
      ]
    },
    {
      "cell_type": "code",
      "metadata": {
        "colab": {
          "base_uri": "https://localhost:8080/"
        },
        "id": "eaXKGGU_0Lwv",
        "outputId": "1252e947-5133-4c36-b911-f4e8d229dd42"
      },
      "source": [
        "data.columns"
      ],
      "execution_count": 7,
      "outputs": [
        {
          "output_type": "execute_result",
          "data": {
            "text/plain": [
              "Index(['Cement (component 1)(kg in a m^3 mixture)',\n",
              "       'Blast Furnace Slag (component 2)(kg in a m^3 mixture)',\n",
              "       'Fly Ash (component 3)(kg in a m^3 mixture)',\n",
              "       'Water  (component 4)(kg in a m^3 mixture)',\n",
              "       'Superplasticizer (component 5)(kg in a m^3 mixture)',\n",
              "       'Coarse Aggregate  (component 6)(kg in a m^3 mixture)',\n",
              "       'Fine Aggregate (component 7)(kg in a m^3 mixture)', 'Age (day)',\n",
              "       'Concrete compressive strength(MPa, megapascals) '],\n",
              "      dtype='object')"
            ]
          },
          "metadata": {
            "tags": []
          },
          "execution_count": 7
        }
      ]
    },
    {
      "cell_type": "code",
      "metadata": {
        "colab": {
          "base_uri": "https://localhost:8080/"
        },
        "id": "OvB0zBmP0QQ5",
        "outputId": "80224f4a-6197-4e2b-eee7-a18771c12cfd"
      },
      "source": [
        "data.isnull().sum()"
      ],
      "execution_count": 8,
      "outputs": [
        {
          "output_type": "execute_result",
          "data": {
            "text/plain": [
              "Cement (component 1)(kg in a m^3 mixture)                0\n",
              "Blast Furnace Slag (component 2)(kg in a m^3 mixture)    0\n",
              "Fly Ash (component 3)(kg in a m^3 mixture)               0\n",
              "Water  (component 4)(kg in a m^3 mixture)                0\n",
              "Superplasticizer (component 5)(kg in a m^3 mixture)      0\n",
              "Coarse Aggregate  (component 6)(kg in a m^3 mixture)     0\n",
              "Fine Aggregate (component 7)(kg in a m^3 mixture)        0\n",
              "Age (day)                                                0\n",
              "Concrete compressive strength(MPa, megapascals)          0\n",
              "dtype: int64"
            ]
          },
          "metadata": {
            "tags": []
          },
          "execution_count": 8
        }
      ]
    },
    {
      "cell_type": "code",
      "metadata": {
        "colab": {
          "base_uri": "https://localhost:8080/",
          "height": 1000
        },
        "id": "0gw9p-3O0fK1",
        "outputId": "313c0aeb-6477-4a41-e777-e41a933dec44"
      },
      "source": [
        "correlation=data.corr()\n",
        "top_corr_features=correlation.index\n",
        "plt.figure(figsize=(20,20))\n",
        "a=sns.heatmap(data[top_corr_features].corr(),annot=True,cmap=\"RdYlGn\")"
      ],
      "execution_count": 10,
      "outputs": [
        {
          "output_type": "display_data",
          "data": {
            "image/png": "[encoded data removed]",
            "text/plain": [
              "<Figure size 1440x1440 with 2 Axes>"
            ]
          },
          "metadata": {
            "tags": [],
            "needs_background": "light"
          }
        }
      ]
    },
    {
      "cell_type": "code",
      "metadata": {
        "colab": {
          "base_uri": "https://localhost:8080/",
          "height": 142
        },
        "id": "Daew_HFg4wLu",
        "outputId": "fd6419fa-340a-4d20-88f6-7e348cd3cb46"
      },
      "source": [
        "data1=data[['Cement (component 1)(kg in a m^3 mixture)','Superplasticizer (component 5)(kg in a m^3 mixture)','Age (day)','Concrete compressive strength(MPa, megapascals) ']]\n",
        "data1.head(3)"
      ],
      "execution_count": 11,
      "outputs": [
        {
          "output_type": "execute_result",
          "data": {
            "text/html": [
              "<div>\n",
              "<style scoped>\n",
              "    .dataframe tbody tr th:only-of-type {\n",
              "        vertical-align: middle;\n",
              "    }\n",
              "\n",
              "    .dataframe tbody tr th {\n",
              "        vertical-align: top;\n",
              "    }\n",
              "\n",
              "    .dataframe thead th {\n",
              "        text-align: right;\n",
              "    }\n",
              "</style>\n",
              "<table border=\"1\" class=\"dataframe\">\n",
              "  <thead>\n",
              "    <tr style=\"text-align: right;\">\n",
              "      <th></th>\n",
              "      <th>Cement (component 1)(kg in a m^3 mixture)</th>\n",
              "      <th>Superplasticizer (component 5)(kg in a m^3 mixture)</th>\n",
              "      <th>Age (day)</th>\n",
              "      <th>Concrete compressive strength(MPa, megapascals)</th>\n",
              "    </tr>\n",
              "  </thead>\n",
              "  <tbody>\n",
              "    <tr>\n",
              "      <th>0</th>\n",
              "      <td>540.0</td>\n",
              "      <td>2.5</td>\n",
              "      <td>28</td>\n",
              "      <td>79.99</td>\n",
              "    </tr>\n",
              "    <tr>\n",
              "      <th>1</th>\n",
              "      <td>540.0</td>\n",
              "      <td>2.5</td>\n",
              "      <td>28</td>\n",
              "      <td>61.89</td>\n",
              "    </tr>\n",
              "    <tr>\n",
              "      <th>2</th>\n",
              "      <td>332.5</td>\n",
              "      <td>0.0</td>\n",
              "      <td>270</td>\n",
              "      <td>40.27</td>\n",
              "    </tr>\n",
              "  </tbody>\n",
              "</table>\n",
              "</div>"
            ],
            "text/plain": [
              "   Cement (component 1)(kg in a m^3 mixture)  ...  Concrete compressive strength(MPa, megapascals) \n",
              "0                                      540.0  ...                                             79.99\n",
              "1                                      540.0  ...                                             61.89\n",
              "2                                      332.5  ...                                             40.27\n",
              "\n",
              "[3 rows x 4 columns]"
            ]
          },
          "metadata": {
            "tags": []
          },
          "execution_count": 11
        }
      ]
    },
    {
      "cell_type": "code",
      "metadata": {
        "colab": {
          "base_uri": "https://localhost:8080/",
          "height": 873
        },
        "id": "5FIHSBzU6iIc",
        "outputId": "3f765d20-8c73-4f32-f220-72cbf25e18b1"
      },
      "source": [
        "b=sns.pairplot(data1)\n",
        "b"
      ],
      "execution_count": 12,
      "outputs": [
        {
          "output_type": "stream",
          "text": [
            "/usr/local/lib/python3.7/dist-packages/seaborn/axisgrid.py:64: UserWarning: Tight layout not applied. tight_layout cannot make axes width small enough to accommodate all axes decorations\n",
            "  self.fig.tight_layout(*args, **kwargs)\n"
          ],
          "name": "stderr"
        },
        {
          "output_type": "execute_result",
          "data": {
            "text/plain": [
              "<seaborn.axisgrid.PairGrid at 0x7fc977f5b550>"
            ]
          },
          "metadata": {
            "tags": []
          },
          "execution_count": 12
        },
        {
          "output_type": "display_data",
          "data": {
            "image/png": "[encoded data removed]",
            "text/plain": [
              "<Figure size 720x720 with 20 Axes>"
            ]
          },
          "metadata": {
            "tags": [],
            "needs_background": "light"
          }
        }
      ]
    },
    {
      "cell_type": "code",
      "metadata": {
        "id": "VLX-Jzq268eU"
      },
      "source": [
        "#Normalizing the Data\n",
        "from sklearn.preprocessing import MinMaxScaler\n",
        "scaler = MinMaxScaler() \n",
        "cement_data= scaler.fit_transform(data1)"
      ],
      "execution_count": 13,
      "outputs": []
    },
    {
      "cell_type": "code",
      "metadata": {
        "colab": {
          "base_uri": "https://localhost:8080/"
        },
        "id": "Qc9yD22V7BW0",
        "outputId": "12b8c471-f51d-4351-e0c5-3666538bafc2"
      },
      "source": [
        "# standardized data between (1 to 0)\n",
        "print(\"min:\",cement_data.min(axis=0))\n",
        "print(\"max:\",cement_data.max(axis=0))"
      ],
      "execution_count": 14,
      "outputs": [
        {
          "output_type": "stream",
          "text": [
            "min: [0. 0. 0. 0.]\n",
            "max: [1. 1. 1. 1.]\n"
          ],
          "name": "stdout"
        }
      ]
    },
    {
      "cell_type": "code",
      "metadata": {
        "colab": {
          "base_uri": "https://localhost:8080/",
          "height": 173
        },
        "id": "I8o5sgbN7LRI",
        "outputId": "ddabf58d-8528-4763-f811-d4f4eeb1f65f"
      },
      "source": [
        "data2=pd.DataFrame(cement_data,columns=[['Cement (component 1)(kg in a m^3 mixture)','Superplasticizer (component 5)(kg in a m^3 mixture)','Age (day)','Concrete compressive strength(MPa, megapascals) ']])\n",
        "data2.head(4)"
      ],
      "execution_count": 21,
      "outputs": [
        {
          "output_type": "execute_result",
          "data": {
            "text/html": [
              "<div>\n",
              "<style scoped>\n",
              "    .dataframe tbody tr th:only-of-type {\n",
              "        vertical-align: middle;\n",
              "    }\n",
              "\n",
              "    .dataframe tbody tr th {\n",
              "        vertical-align: top;\n",
              "    }\n",
              "\n",
              "    .dataframe thead tr th {\n",
              "        text-align: left;\n",
              "    }\n",
              "</style>\n",
              "<table border=\"1\" class=\"dataframe\">\n",
              "  <thead>\n",
              "    <tr>\n",
              "      <th></th>\n",
              "      <th>Cement (component 1)(kg in a m^3 mixture)</th>\n",
              "      <th>Superplasticizer (component 5)(kg in a m^3 mixture)</th>\n",
              "      <th>Age (day)</th>\n",
              "      <th>Concrete compressive strength(MPa, megapascals)</th>\n",
              "    </tr>\n",
              "  </thead>\n",
              "  <tbody>\n",
              "    <tr>\n",
              "      <th>0</th>\n",
              "      <td>1.000000</td>\n",
              "      <td>0.07764</td>\n",
              "      <td>0.074176</td>\n",
              "      <td>0.967485</td>\n",
              "    </tr>\n",
              "    <tr>\n",
              "      <th>1</th>\n",
              "      <td>1.000000</td>\n",
              "      <td>0.07764</td>\n",
              "      <td>0.074176</td>\n",
              "      <td>0.741996</td>\n",
              "    </tr>\n",
              "    <tr>\n",
              "      <th>2</th>\n",
              "      <td>0.526256</td>\n",
              "      <td>0.00000</td>\n",
              "      <td>0.739011</td>\n",
              "      <td>0.472655</td>\n",
              "    </tr>\n",
              "    <tr>\n",
              "      <th>3</th>\n",
              "      <td>0.526256</td>\n",
              "      <td>0.00000</td>\n",
              "      <td>1.000000</td>\n",
              "      <td>0.482372</td>\n",
              "    </tr>\n",
              "  </tbody>\n",
              "</table>\n",
              "</div>"
            ],
            "text/plain": [
              "  Cement (component 1)(kg in a m^3 mixture)  ... Concrete compressive strength(MPa, megapascals) \n",
              "0                                  1.000000  ...                                         0.967485\n",
              "1                                  1.000000  ...                                         0.741996\n",
              "2                                  0.526256  ...                                         0.472655\n",
              "3                                  0.526256  ...                                         0.482372\n",
              "\n",
              "[4 rows x 4 columns]"
            ]
          },
          "metadata": {
            "tags": []
          },
          "execution_count": 21
        }
      ]
    },
    {
      "cell_type": "code",
      "metadata": {
        "id": "VIRoEPNAWNaX"
      },
      "source": [
        "# Split Data\n",
        "X=data2[['Cement (component 1)(kg in a m^3 mixture)','Superplasticizer (component 5)(kg in a m^3 mixture)','Age (day)']]\n",
        "Y=data2[['Concrete compressive strength(MPa, megapascals) ']]\n",
        "from sklearn.model_selection import train_test_split\n",
        "X_train,X_test,Y_train,Y_test= train_test_split(X,Y,test_size=0.30,random_state=54)"
      ],
      "execution_count": 23,
      "outputs": []
    },
    {
      "cell_type": "code",
      "metadata": {
        "colab": {
          "base_uri": "https://localhost:8080/",
          "height": 419
        },
        "id": "9KP5DVdPWT-m",
        "outputId": "946bb566-9c3a-427a-99ae-6e8bd20e0acd"
      },
      "source": [
        "X_train"
      ],
      "execution_count": 24,
      "outputs": [
        {
          "output_type": "execute_result",
          "data": {
            "text/html": [
              "<div>\n",
              "<style scoped>\n",
              "    .dataframe tbody tr th:only-of-type {\n",
              "        vertical-align: middle;\n",
              "    }\n",
              "\n",
              "    .dataframe tbody tr th {\n",
              "        vertical-align: top;\n",
              "    }\n",
              "\n",
              "    .dataframe thead tr th {\n",
              "        text-align: left;\n",
              "    }\n",
              "</style>\n",
              "<table border=\"1\" class=\"dataframe\">\n",
              "  <thead>\n",
              "    <tr>\n",
              "      <th></th>\n",
              "      <th>Cement (component 1)(kg in a m^3 mixture)</th>\n",
              "      <th>Superplasticizer (component 5)(kg in a m^3 mixture)</th>\n",
              "      <th>Age (day)</th>\n",
              "    </tr>\n",
              "  </thead>\n",
              "  <tbody>\n",
              "    <tr>\n",
              "      <th>1029</th>\n",
              "      <td>0.362785</td>\n",
              "      <td>0.267081</td>\n",
              "      <td>0.074176</td>\n",
              "    </tr>\n",
              "    <tr>\n",
              "      <th>919</th>\n",
              "      <td>0.481735</td>\n",
              "      <td>0.248447</td>\n",
              "      <td>0.074176</td>\n",
              "    </tr>\n",
              "    <tr>\n",
              "      <th>150</th>\n",
              "      <td>0.494977</td>\n",
              "      <td>0.444099</td>\n",
              "      <td>0.151099</td>\n",
              "    </tr>\n",
              "    <tr>\n",
              "      <th>352</th>\n",
              "      <td>0.254566</td>\n",
              "      <td>0.363354</td>\n",
              "      <td>0.151099</td>\n",
              "    </tr>\n",
              "    <tr>\n",
              "      <th>923</th>\n",
              "      <td>0.136986</td>\n",
              "      <td>0.310559</td>\n",
              "      <td>0.074176</td>\n",
              "    </tr>\n",
              "    <tr>\n",
              "      <th>...</th>\n",
              "      <td>...</td>\n",
              "      <td>...</td>\n",
              "      <td>...</td>\n",
              "    </tr>\n",
              "    <tr>\n",
              "      <th>542</th>\n",
              "      <td>0.349315</td>\n",
              "      <td>0.000000</td>\n",
              "      <td>0.244505</td>\n",
              "    </tr>\n",
              "    <tr>\n",
              "      <th>708</th>\n",
              "      <td>0.031963</td>\n",
              "      <td>0.000000</td>\n",
              "      <td>0.005495</td>\n",
              "    </tr>\n",
              "    <tr>\n",
              "      <th>617</th>\n",
              "      <td>0.347032</td>\n",
              "      <td>0.000000</td>\n",
              "      <td>0.005495</td>\n",
              "    </tr>\n",
              "    <tr>\n",
              "      <th>17</th>\n",
              "      <td>0.547945</td>\n",
              "      <td>0.000000</td>\n",
              "      <td>1.000000</td>\n",
              "    </tr>\n",
              "    <tr>\n",
              "      <th>898</th>\n",
              "      <td>0.534247</td>\n",
              "      <td>0.093168</td>\n",
              "      <td>0.074176</td>\n",
              "    </tr>\n",
              "  </tbody>\n",
              "</table>\n",
              "<p>721 rows × 3 columns</p>\n",
              "</div>"
            ],
            "text/plain": [
              "     Cement (component 1)(kg in a m^3 mixture)  ... Age (day)\n",
              "1029                                  0.362785  ...  0.074176\n",
              "919                                   0.481735  ...  0.074176\n",
              "150                                   0.494977  ...  0.151099\n",
              "352                                   0.254566  ...  0.151099\n",
              "923                                   0.136986  ...  0.074176\n",
              "...                                        ...  ...       ...\n",
              "542                                   0.349315  ...  0.244505\n",
              "708                                   0.031963  ...  0.005495\n",
              "617                                   0.347032  ...  0.005495\n",
              "17                                    0.547945  ...  1.000000\n",
              "898                                   0.534247  ...  0.074176\n",
              "\n",
              "[721 rows x 3 columns]"
            ]
          },
          "metadata": {
            "tags": []
          },
          "execution_count": 24
        }
      ]
    },
    {
      "cell_type": "code",
      "metadata": {
        "id": "2CzqUaXlZ3I0"
      },
      "source": [
        "model = Sequential()\n",
        "model.add(tf.keras.layers.Dense(10, activation='relu',input_shape=(3,)))\n",
        "model.add(tf.keras.layers.Dense(8, activation='relu'))\n",
        "model.add(tf.keras.layers.Dense(6, activation='relu'))\n",
        "model.add(tf.keras.layers.Dense(1,activation='sigmoid'))\n",
        "model.compile(optimizer='rmsprop',loss='mse', metrics=['mae'])"
      ],
      "execution_count": 27,
      "outputs": []
    },
    {
      "cell_type": "code",
      "metadata": {
        "colab": {
          "base_uri": "https://localhost:8080/"
        },
        "id": "4AF-NOJfaRAl",
        "outputId": "c5def925-3f00-43c9-daba-abe15606c723"
      },
      "source": [
        "model.fit(X_train,Y_train,epochs=100)"
      ],
      "execution_count": 28,
      "outputs": [
        {
          "output_type": "stream",
          "text": [
            "Epoch 1/100\n",
            "23/23 [==============================] - 1s 1ms/step - loss: 0.0498 - mae: 0.1848\n",
            "Epoch 2/100\n",
            "23/23 [==============================] - 0s 1ms/step - loss: 0.0473 - mae: 0.1799\n",
            "Epoch 3/100\n",
            "23/23 [==============================] - 0s 1ms/step - loss: 0.0466 - mae: 0.1782\n",
            "Epoch 4/100\n",
            "23/23 [==============================] - 0s 1ms/step - loss: 0.0449 - mae: 0.1754\n",
            "Epoch 5/100\n",
            "23/23 [==============================] - 0s 1ms/step - loss: 0.0385 - mae: 0.1622\n",
            "Epoch 6/100\n",
            "23/23 [==============================] - 0s 1ms/step - loss: 0.0373 - mae: 0.1582\n",
            "Epoch 7/100\n",
            "23/23 [==============================] - 0s 1ms/step - loss: 0.0351 - mae: 0.1542\n",
            "Epoch 8/100\n",
            "23/23 [==============================] - 0s 1ms/step - loss: 0.0330 - mae: 0.1485\n",
            "Epoch 9/100\n",
            "23/23 [==============================] - 0s 1ms/step - loss: 0.0312 - mae: 0.1440\n",
            "Epoch 10/100\n",
            "23/23 [==============================] - 0s 1ms/step - loss: 0.0291 - mae: 0.1393\n",
            "Epoch 11/100\n",
            "23/23 [==============================] - 0s 1ms/step - loss: 0.0285 - mae: 0.1383\n",
            "Epoch 12/100\n",
            "23/23 [==============================] - 0s 1ms/step - loss: 0.0253 - mae: 0.1296\n",
            "Epoch 13/100\n",
            "23/23 [==============================] - 0s 1ms/step - loss: 0.0239 - mae: 0.1256\n",
            "Epoch 14/100\n",
            "23/23 [==============================] - 0s 1ms/step - loss: 0.0229 - mae: 0.1229\n",
            "Epoch 15/100\n",
            "23/23 [==============================] - 0s 1ms/step - loss: 0.0203 - mae: 0.1168\n",
            "Epoch 16/100\n",
            "23/23 [==============================] - 0s 1ms/step - loss: 0.0212 - mae: 0.1178\n",
            "Epoch 17/100\n",
            "23/23 [==============================] - 0s 1ms/step - loss: 0.0188 - mae: 0.1114\n",
            "Epoch 18/100\n",
            "23/23 [==============================] - 0s 1ms/step - loss: 0.0215 - mae: 0.1184\n",
            "Epoch 19/100\n",
            "23/23 [==============================] - 0s 1ms/step - loss: 0.0212 - mae: 0.1177\n",
            "Epoch 20/100\n",
            "23/23 [==============================] - 0s 1ms/step - loss: 0.0188 - mae: 0.1108\n",
            "Epoch 21/100\n",
            "23/23 [==============================] - 0s 1ms/step - loss: 0.0202 - mae: 0.1131\n",
            "Epoch 22/100\n",
            "23/23 [==============================] - 0s 1ms/step - loss: 0.0185 - mae: 0.1083\n",
            "Epoch 23/100\n",
            "23/23 [==============================] - 0s 1ms/step - loss: 0.0189 - mae: 0.1101\n",
            "Epoch 24/100\n",
            "23/23 [==============================] - 0s 1ms/step - loss: 0.0188 - mae: 0.1077\n",
            "Epoch 25/100\n",
            "23/23 [==============================] - 0s 1ms/step - loss: 0.0197 - mae: 0.1144\n",
            "Epoch 26/100\n",
            "23/23 [==============================] - 0s 1ms/step - loss: 0.0174 - mae: 0.1060\n",
            "Epoch 27/100\n",
            "23/23 [==============================] - 0s 1ms/step - loss: 0.0175 - mae: 0.1036\n",
            "Epoch 28/100\n",
            "23/23 [==============================] - 0s 1ms/step - loss: 0.0186 - mae: 0.1083\n",
            "Epoch 29/100\n",
            "23/23 [==============================] - 0s 1ms/step - loss: 0.0175 - mae: 0.1070\n",
            "Epoch 30/100\n",
            "23/23 [==============================] - 0s 2ms/step - loss: 0.0175 - mae: 0.1063\n",
            "Epoch 31/100\n",
            "23/23 [==============================] - 0s 1ms/step - loss: 0.0174 - mae: 0.1065\n",
            "Epoch 32/100\n",
            "23/23 [==============================] - 0s 1ms/step - loss: 0.0179 - mae: 0.1083\n",
            "Epoch 33/100\n",
            "23/23 [==============================] - 0s 1ms/step - loss: 0.0170 - mae: 0.1036\n",
            "Epoch 34/100\n",
            "23/23 [==============================] - 0s 1ms/step - loss: 0.0173 - mae: 0.1065\n",
            "Epoch 35/100\n",
            "23/23 [==============================] - 0s 1ms/step - loss: 0.0166 - mae: 0.1048\n",
            "Epoch 36/100\n",
            "23/23 [==============================] - 0s 1ms/step - loss: 0.0160 - mae: 0.1005\n",
            "Epoch 37/100\n",
            "23/23 [==============================] - 0s 1ms/step - loss: 0.0165 - mae: 0.1014\n",
            "Epoch 38/100\n",
            "23/23 [==============================] - 0s 1ms/step - loss: 0.0178 - mae: 0.1083\n",
            "Epoch 39/100\n",
            "23/23 [==============================] - 0s 1ms/step - loss: 0.0140 - mae: 0.0956\n",
            "Epoch 40/100\n",
            "23/23 [==============================] - 0s 1ms/step - loss: 0.0157 - mae: 0.0993\n",
            "Epoch 41/100\n",
            "23/23 [==============================] - 0s 1ms/step - loss: 0.0159 - mae: 0.1008\n",
            "Epoch 42/100\n",
            "23/23 [==============================] - 0s 1ms/step - loss: 0.0151 - mae: 0.0983\n",
            "Epoch 43/100\n",
            "23/23 [==============================] - 0s 1ms/step - loss: 0.0154 - mae: 0.0980\n",
            "Epoch 44/100\n",
            "23/23 [==============================] - 0s 1ms/step - loss: 0.0158 - mae: 0.1006\n",
            "Epoch 45/100\n",
            "23/23 [==============================] - 0s 1ms/step - loss: 0.0149 - mae: 0.0956\n",
            "Epoch 46/100\n",
            "23/23 [==============================] - 0s 1ms/step - loss: 0.0147 - mae: 0.0956\n",
            "Epoch 47/100\n",
            "23/23 [==============================] - 0s 1ms/step - loss: 0.0159 - mae: 0.1018\n",
            "Epoch 48/100\n",
            "23/23 [==============================] - 0s 1ms/step - loss: 0.0149 - mae: 0.0967\n",
            "Epoch 49/100\n",
            "23/23 [==============================] - 0s 1ms/step - loss: 0.0143 - mae: 0.0946\n",
            "Epoch 50/100\n",
            "23/23 [==============================] - 0s 1ms/step - loss: 0.0138 - mae: 0.0947\n",
            "Epoch 51/100\n",
            "23/23 [==============================] - 0s 1ms/step - loss: 0.0148 - mae: 0.0966\n",
            "Epoch 52/100\n",
            "23/23 [==============================] - 0s 1ms/step - loss: 0.0127 - mae: 0.0898\n",
            "Epoch 53/100\n",
            "23/23 [==============================] - 0s 1ms/step - loss: 0.0136 - mae: 0.0949\n",
            "Epoch 54/100\n",
            "23/23 [==============================] - 0s 1ms/step - loss: 0.0132 - mae: 0.0918\n",
            "Epoch 55/100\n",
            "23/23 [==============================] - 0s 2ms/step - loss: 0.0137 - mae: 0.0939\n",
            "Epoch 56/100\n",
            "23/23 [==============================] - 0s 1ms/step - loss: 0.0140 - mae: 0.0933\n",
            "Epoch 57/100\n",
            "23/23 [==============================] - 0s 1ms/step - loss: 0.0125 - mae: 0.0894\n",
            "Epoch 58/100\n",
            "23/23 [==============================] - 0s 1ms/step - loss: 0.0119 - mae: 0.0873\n",
            "Epoch 59/100\n",
            "23/23 [==============================] - 0s 1ms/step - loss: 0.0119 - mae: 0.0878\n",
            "Epoch 60/100\n",
            "23/23 [==============================] - 0s 1ms/step - loss: 0.0119 - mae: 0.0866\n",
            "Epoch 61/100\n",
            "23/23 [==============================] - 0s 1ms/step - loss: 0.0123 - mae: 0.0882\n",
            "Epoch 62/100\n",
            "23/23 [==============================] - 0s 1ms/step - loss: 0.0127 - mae: 0.0885\n",
            "Epoch 63/100\n",
            "23/23 [==============================] - 0s 1ms/step - loss: 0.0115 - mae: 0.0864\n",
            "Epoch 64/100\n",
            "23/23 [==============================] - 0s 1ms/step - loss: 0.0124 - mae: 0.0896\n",
            "Epoch 65/100\n",
            "23/23 [==============================] - 0s 1ms/step - loss: 0.0113 - mae: 0.0845\n",
            "Epoch 66/100\n",
            "23/23 [==============================] - 0s 1ms/step - loss: 0.0117 - mae: 0.0851\n",
            "Epoch 67/100\n",
            "23/23 [==============================] - 0s 1ms/step - loss: 0.0122 - mae: 0.0881\n",
            "Epoch 68/100\n",
            "23/23 [==============================] - 0s 1ms/step - loss: 0.0121 - mae: 0.0874\n",
            "Epoch 69/100\n",
            "23/23 [==============================] - 0s 1ms/step - loss: 0.0114 - mae: 0.0857\n",
            "Epoch 70/100\n",
            "23/23 [==============================] - 0s 1ms/step - loss: 0.0112 - mae: 0.0862\n",
            "Epoch 71/100\n",
            "23/23 [==============================] - 0s 1ms/step - loss: 0.0124 - mae: 0.0879\n",
            "Epoch 72/100\n",
            "23/23 [==============================] - 0s 1ms/step - loss: 0.0109 - mae: 0.0819\n",
            "Epoch 73/100\n",
            "23/23 [==============================] - 0s 1ms/step - loss: 0.0118 - mae: 0.0859\n",
            "Epoch 74/100\n",
            "23/23 [==============================] - 0s 1ms/step - loss: 0.0105 - mae: 0.0817\n",
            "Epoch 75/100\n",
            "23/23 [==============================] - 0s 1ms/step - loss: 0.0105 - mae: 0.0809\n",
            "Epoch 76/100\n",
            "23/23 [==============================] - 0s 1ms/step - loss: 0.0104 - mae: 0.0808\n",
            "Epoch 77/100\n",
            "23/23 [==============================] - 0s 1ms/step - loss: 0.0110 - mae: 0.0843\n",
            "Epoch 78/100\n",
            "23/23 [==============================] - 0s 1ms/step - loss: 0.0112 - mae: 0.0840\n",
            "Epoch 79/100\n",
            "23/23 [==============================] - 0s 1ms/step - loss: 0.0107 - mae: 0.0820\n",
            "Epoch 80/100\n",
            "23/23 [==============================] - 0s 1ms/step - loss: 0.0118 - mae: 0.0869\n",
            "Epoch 81/100\n",
            "23/23 [==============================] - 0s 1ms/step - loss: 0.0112 - mae: 0.0841\n",
            "Epoch 82/100\n",
            "23/23 [==============================] - 0s 1ms/step - loss: 0.0120 - mae: 0.0872\n",
            "Epoch 83/100\n",
            "23/23 [==============================] - 0s 1ms/step - loss: 0.0109 - mae: 0.0838\n",
            "Epoch 84/100\n",
            "23/23 [==============================] - 0s 1ms/step - loss: 0.0110 - mae: 0.0822\n",
            "Epoch 85/100\n",
            "23/23 [==============================] - 0s 1ms/step - loss: 0.0106 - mae: 0.0815\n",
            "Epoch 86/100\n",
            "23/23 [==============================] - 0s 1ms/step - loss: 0.0112 - mae: 0.0816\n",
            "Epoch 87/100\n",
            "23/23 [==============================] - 0s 1ms/step - loss: 0.0117 - mae: 0.0855\n",
            "Epoch 88/100\n",
            "23/23 [==============================] - 0s 1ms/step - loss: 0.0113 - mae: 0.0845\n",
            "Epoch 89/100\n",
            "23/23 [==============================] - 0s 1ms/step - loss: 0.0106 - mae: 0.0815\n",
            "Epoch 90/100\n",
            "23/23 [==============================] - 0s 1ms/step - loss: 0.0108 - mae: 0.0831\n",
            "Epoch 91/100\n",
            "23/23 [==============================] - 0s 1ms/step - loss: 0.0108 - mae: 0.0801\n",
            "Epoch 92/100\n",
            "23/23 [==============================] - 0s 1ms/step - loss: 0.0111 - mae: 0.0824\n",
            "Epoch 93/100\n",
            "23/23 [==============================] - 0s 1ms/step - loss: 0.0105 - mae: 0.0814\n",
            "Epoch 94/100\n",
            "23/23 [==============================] - 0s 1ms/step - loss: 0.0100 - mae: 0.0787\n",
            "Epoch 95/100\n",
            "23/23 [==============================] - 0s 1ms/step - loss: 0.0107 - mae: 0.0817\n",
            "Epoch 96/100\n",
            "23/23 [==============================] - 0s 1ms/step - loss: 0.0107 - mae: 0.0814\n",
            "Epoch 97/100\n",
            "23/23 [==============================] - 0s 1ms/step - loss: 0.0108 - mae: 0.0814\n",
            "Epoch 98/100\n",
            "23/23 [==============================] - 0s 1ms/step - loss: 0.0110 - mae: 0.0833\n",
            "Epoch 99/100\n",
            "23/23 [==============================] - 0s 1ms/step - loss: 0.0093 - mae: 0.0751\n",
            "Epoch 100/100\n",
            "23/23 [==============================] - 0s 1ms/step - loss: 0.0100 - mae: 0.0778\n"
          ],
          "name": "stdout"
        },
        {
          "output_type": "execute_result",
          "data": {
            "text/plain": [
              "<tensorflow.python.keras.callbacks.History at 0x7fc96b452f10>"
            ]
          },
          "metadata": {
            "tags": []
          },
          "execution_count": 28
        }
      ]
    },
    {
      "cell_type": "code",
      "metadata": {
        "colab": {
          "base_uri": "https://localhost:8080/"
        },
        "id": "YegjF2YEa1sw",
        "outputId": "5721417e-5ae1-40d5-e1a6-f0f48be655da"
      },
      "source": [
        "Prediction=model.predict(X_test)\n",
        "print(Prediction.shape)\n",
        "print(Prediction)"
      ],
      "execution_count": 29,
      "outputs": [
        {
          "output_type": "stream",
          "text": [
            "(309, 1)\n",
            "[[0.2881925 ]\n",
            " [0.52453357]\n",
            " [0.3042719 ]\n",
            " [0.36065346]\n",
            " [0.5737322 ]\n",
            " [0.17138031]\n",
            " [0.14818195]\n",
            " [0.30941796]\n",
            " [0.9374671 ]\n",
            " [0.28649828]\n",
            " [0.27272406]\n",
            " [0.17729941]\n",
            " [0.28881228]\n",
            " [0.73801994]\n",
            " [0.13881406]\n",
            " [0.22069123]\n",
            " [0.5991542 ]\n",
            " [0.30038837]\n",
            " [0.27981886]\n",
            " [0.39066797]\n",
            " [0.3084607 ]\n",
            " [0.15291193]\n",
            " [0.46553192]\n",
            " [0.2245337 ]\n",
            " [0.163715  ]\n",
            " [0.15726402]\n",
            " [0.12502956]\n",
            " [0.45734793]\n",
            " [0.5393021 ]\n",
            " [0.41126016]\n",
            " [0.30266201]\n",
            " [0.47479162]\n",
            " [0.5493664 ]\n",
            " [0.5906432 ]\n",
            " [0.33233613]\n",
            " [0.8156997 ]\n",
            " [0.5171407 ]\n",
            " [0.6322273 ]\n",
            " [0.33619162]\n",
            " [0.5530683 ]\n",
            " [0.5016334 ]\n",
            " [0.43601605]\n",
            " [0.4817646 ]\n",
            " [0.43108904]\n",
            " [0.70266944]\n",
            " [0.6980793 ]\n",
            " [0.5212434 ]\n",
            " [0.30713454]\n",
            " [0.3110761 ]\n",
            " [0.43246424]\n",
            " [0.2921787 ]\n",
            " [0.55900943]\n",
            " [0.4829507 ]\n",
            " [0.31361282]\n",
            " [0.61739093]\n",
            " [0.36072242]\n",
            " [0.2873789 ]\n",
            " [0.53433377]\n",
            " [0.5829202 ]\n",
            " [0.3146178 ]\n",
            " [0.3604124 ]\n",
            " [0.5235784 ]\n",
            " [0.34154683]\n",
            " [0.47086787]\n",
            " [0.30388314]\n",
            " [0.43520856]\n",
            " [0.59491587]\n",
            " [0.27672315]\n",
            " [0.6816062 ]\n",
            " [0.40093353]\n",
            " [0.5991542 ]\n",
            " [0.54268914]\n",
            " [0.33252066]\n",
            " [0.45012584]\n",
            " [0.67761236]\n",
            " [0.49995726]\n",
            " [0.28692836]\n",
            " [0.49038535]\n",
            " [0.2522441 ]\n",
            " [0.5240975 ]\n",
            " [0.5826718 ]\n",
            " [0.55063933]\n",
            " [0.52380306]\n",
            " [0.6678262 ]\n",
            " [0.46667415]\n",
            " [0.267699  ]\n",
            " [0.30262205]\n",
            " [0.48071086]\n",
            " [0.54579073]\n",
            " [0.82947326]\n",
            " [0.46148163]\n",
            " [0.34810814]\n",
            " [0.3030284 ]\n",
            " [0.3110761 ]\n",
            " [0.62983   ]\n",
            " [0.39384335]\n",
            " [0.3044412 ]\n",
            " [0.15177858]\n",
            " [0.68847895]\n",
            " [0.31337684]\n",
            " [0.2537189 ]\n",
            " [0.48210177]\n",
            " [0.3004123 ]\n",
            " [0.5212434 ]\n",
            " [0.64458394]\n",
            " [0.38762474]\n",
            " [0.5016334 ]\n",
            " [0.4737482 ]\n",
            " [0.18968955]\n",
            " [0.18297124]\n",
            " [0.47730452]\n",
            " [0.5170344 ]\n",
            " [0.47086787]\n",
            " [0.4683297 ]\n",
            " [0.16376257]\n",
            " [0.47579533]\n",
            " [0.19581577]\n",
            " [0.52350855]\n",
            " [0.2002148 ]\n",
            " [0.49027187]\n",
            " [0.4385153 ]\n",
            " [0.5115907 ]\n",
            " [0.7645067 ]\n",
            " [0.86751986]\n",
            " [0.3141275 ]\n",
            " [0.73574173]\n",
            " [0.61349785]\n",
            " [0.5172949 ]\n",
            " [0.4511703 ]\n",
            " [0.5343755 ]\n",
            " [0.21661541]\n",
            " [0.30684298]\n",
            " [0.6931459 ]\n",
            " [0.50900155]\n",
            " [0.5170344 ]\n",
            " [0.1832169 ]\n",
            " [0.490938  ]\n",
            " [0.31765616]\n",
            " [0.30791342]\n",
            " [0.6598633 ]\n",
            " [0.44612008]\n",
            " [0.5658707 ]\n",
            " [0.541389  ]\n",
            " [0.45641285]\n",
            " [0.761922  ]\n",
            " [0.28768456]\n",
            " [0.45106795]\n",
            " [0.47663134]\n",
            " [0.5106589 ]\n",
            " [0.38853008]\n",
            " [0.52994514]\n",
            " [0.6689085 ]\n",
            " [0.14411277]\n",
            " [0.13504836]\n",
            " [0.39882442]\n",
            " [0.4777356 ]\n",
            " [0.2677751 ]\n",
            " [0.19682431]\n",
            " [0.3195089 ]\n",
            " [0.4231729 ]\n",
            " [0.54143274]\n",
            " [0.577444  ]\n",
            " [0.49612346]\n",
            " [0.6137531 ]\n",
            " [0.71295834]\n",
            " [0.15341344]\n",
            " [0.73801994]\n",
            " [0.56052446]\n",
            " [0.48507118]\n",
            " [0.48284173]\n",
            " [0.69703174]\n",
            " [0.30838543]\n",
            " [0.6709451 ]\n",
            " [0.11982924]\n",
            " [0.1576646 ]\n",
            " [0.2590935 ]\n",
            " [0.49033064]\n",
            " [0.4020695 ]\n",
            " [0.36448422]\n",
            " [0.5550038 ]\n",
            " [0.35218632]\n",
            " [0.37254378]\n",
            " [0.2956637 ]\n",
            " [0.4030579 ]\n",
            " [0.8074758 ]\n",
            " [0.4451305 ]\n",
            " [0.27388245]\n",
            " [0.16541749]\n",
            " [0.3216602 ]\n",
            " [0.5827575 ]\n",
            " [0.28353855]\n",
            " [0.325813  ]\n",
            " [0.17333099]\n",
            " [0.29383045]\n",
            " [0.45012584]\n",
            " [0.5142638 ]\n",
            " [0.49878976]\n",
            " [0.47374785]\n",
            " [0.5091172 ]\n",
            " [0.86508644]\n",
            " [0.552405  ]\n",
            " [0.15836766]\n",
            " [0.4079941 ]\n",
            " [0.15776491]\n",
            " [0.39025837]\n",
            " [0.15730402]\n",
            " [0.46467882]\n",
            " [0.53251207]\n",
            " [0.76098   ]\n",
            " [0.6733634 ]\n",
            " [0.6273995 ]\n",
            " [0.6335902 ]\n",
            " [0.5387042 ]\n",
            " [0.23790056]\n",
            " [0.14845574]\n",
            " [0.26652837]\n",
            " [0.5357054 ]\n",
            " [0.2904806 ]\n",
            " [0.30226153]\n",
            " [0.5826905 ]\n",
            " [0.31450146]\n",
            " [0.49319965]\n",
            " [0.66993284]\n",
            " [0.13465226]\n",
            " [0.3053121 ]\n",
            " [0.59472406]\n",
            " [0.21078146]\n",
            " [0.26489642]\n",
            " [0.18924475]\n",
            " [0.19682431]\n",
            " [0.5240975 ]\n",
            " [0.372762  ]\n",
            " [0.40826452]\n",
            " [0.41458607]\n",
            " [0.49034137]\n",
            " [0.30523306]\n",
            " [0.14980915]\n",
            " [0.13725299]\n",
            " [0.29581696]\n",
            " [0.13389137]\n",
            " [0.7765105 ]\n",
            " [0.47147298]\n",
            " [0.52453357]\n",
            " [0.15448296]\n",
            " [0.4782649 ]\n",
            " [0.59472406]\n",
            " [0.40567452]\n",
            " [0.4529317 ]\n",
            " [0.21144134]\n",
            " [0.258094  ]\n",
            " [0.6120204 ]\n",
            " [0.601935  ]\n",
            " [0.37554124]\n",
            " [0.5305091 ]\n",
            " [0.29383045]\n",
            " [0.52720046]\n",
            " [0.13422185]\n",
            " [0.2763729 ]\n",
            " [0.2854439 ]\n",
            " [0.25146323]\n",
            " [0.2971936 ]\n",
            " [0.15487778]\n",
            " [0.48676583]\n",
            " [0.6437406 ]\n",
            " [0.29492813]\n",
            " [0.16113815]\n",
            " [0.46248525]\n",
            " [0.3150331 ]\n",
            " [0.1848929 ]\n",
            " [0.44458523]\n",
            " [0.696187  ]\n",
            " [0.79041064]\n",
            " [0.30267775]\n",
            " [0.6440761 ]\n",
            " [0.39923048]\n",
            " [0.25715172]\n",
            " [0.29064298]\n",
            " [0.58965683]\n",
            " [0.30645752]\n",
            " [0.20983106]\n",
            " [0.23832318]\n",
            " [0.5240975 ]\n",
            " [0.31180745]\n",
            " [0.7104026 ]\n",
            " [0.44191492]\n",
            " [0.34699523]\n",
            " [0.3076054 ]\n",
            " [0.56216896]\n",
            " [0.4638771 ]\n",
            " [0.16935164]\n",
            " [0.50785446]\n",
            " [0.6293631 ]\n",
            " [0.5499976 ]\n",
            " [0.22051832]\n",
            " [0.4757116 ]\n",
            " [0.5524084 ]\n",
            " [0.3022064 ]\n",
            " [0.36163813]\n",
            " [0.48141402]\n",
            " [0.17082193]\n",
            " [0.30943447]\n",
            " [0.46132722]\n",
            " [0.7112363 ]\n",
            " [0.4739444 ]\n",
            " [0.4056111 ]\n",
            " [0.1576646 ]\n",
            " [0.70348865]\n",
            " [0.58346725]\n",
            " [0.12324035]]\n"
          ],
          "name": "stdout"
        }
      ]
    }
  ]
}